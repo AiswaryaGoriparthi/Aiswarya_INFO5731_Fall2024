{
  "cells": [
    {
      "cell_type": "markdown",
      "metadata": {
        "id": "view-in-github",
        "colab_type": "text"
      },
      "source": [
        "<a href=\"https://colab.research.google.com/github/AiswaryaGoriparthi/Aiswarya_INFO5731_Fall2024/blob/main/Goriparthi_Aiswarya_Assignment_01.ipynb\" target=\"_parent\"><img src=\"https://colab.research.google.com/assets/colab-badge.svg\" alt=\"Open In Colab\"/></a>"
      ]
    },
    {
      "cell_type": "markdown",
      "metadata": {
        "id": "Ryk8D1Q4Wsrp"
      },
      "source": [
        "# **INFO5731 Assignment One**"
      ]
    },
    {
      "cell_type": "markdown",
      "source": [
        "This assignment includes range of programming tasks and data analysis exercises, aiming to enhance your Python skills and proficiency in string manipulation, numerical computations, and data science. Follow the instructions carefully and design well-structured Python programs to address each question.\n",
        "\n",
        "Late Submission will have a penalty of 10% reduction for each day after the deadline."
      ],
      "metadata": {
        "id": "qcP6re2g5A5r"
      }
    },
    {
      "cell_type": "markdown",
      "metadata": {
        "id": "JkzR8cFAyGik"
      },
      "source": [
        "# Question 1 (10 points).\n",
        "\n",
        "The formula that describes the volume V of a hemisphere with radius r is the following:\n",
        "\n",
        "$ V=\\frac{2}{3}\\ast\\ \\pi\\ast\\ r^3 $\n",
        "\n",
        "Write a program to calculate the value of V when r is in the range of even numbers from 1-20. Output the result in the following format:\n",
        "\n",
        "\tr\tV\n",
        "\t2\t…\n",
        "\t4\t…\n",
        "\t6\t…\n",
        "\t.\n",
        "\t.\n",
        "\t.\n",
        "\t20\t…\n"
      ]
    },
    {
      "cell_type": "code",
      "execution_count": 1,
      "metadata": {
        "id": "jDyTKYs-yGit",
        "colab": {
          "base_uri": "https://localhost:8080/"
        },
        "outputId": "133714d4-4042-41a0-af3b-6da06361f6ac"
      },
      "outputs": [
        {
          "output_type": "stream",
          "name": "stdout",
          "text": [
            "r    V                   \n",
            "2    16.75516            \n",
            "4    134.04129           \n",
            "6    452.38934           \n",
            "8    1072.33029          \n",
            "10   2094.39510          \n",
            "12   3619.11474          \n",
            "14   5747.02016          \n",
            "16   8578.64234          \n",
            "18   12214.51224         \n",
            "20   16755.16082         \n"
          ]
        }
      ],
      "source": [
        "# Your code here\n",
        "import math\n",
        "\n",
        "# Function to calculate the volume of a hemisphere\n",
        "def hemisphere_vol(r):\n",
        "    return (2/3) * math.pi * (r**3)\n",
        "\n",
        "# Output table header\n",
        "print(f\"{'r':<5}{'V':<20}\")\n",
        "\n",
        "# Calculate and print volume for even numbers in the range 1 to 20\n",
        "for r in range(2, 21, 2):\n",
        "    V = hemisphere_vol(r)\n",
        "    print(f\"{r:<5}{V:<20.5f}\")\n",
        "\n",
        "\n",
        "\n"
      ]
    },
    {
      "cell_type": "markdown",
      "metadata": {
        "id": "90_NR8c5XGWc"
      },
      "source": [
        "# Question 2 (20 points)\n",
        "\n",
        "(a) Write a Python program to generate a sequence of 12 random numbers falling within the range of 50 to 150.\n",
        "\n",
        "(b) Arrange the generated numbers in ascending order. Display the sorted list.\n",
        "\n",
        "(c) Extend the program to arrange the numbers in descending order as well. Present the sorted list accordingly.\n",
        "\n",
        "(d) Compute and output the average of the entire group of generated numbers.\n",
        "\n",
        "(e) Enhance the program to calculate and display the average of the first 6 numbers from both the ascending and descending sorted lists."
      ]
    },
    {
      "cell_type": "code",
      "source": [
        "# Write code for each of the sub parts with proper comments\n",
        "import random\n",
        "\n",
        "# (a) Generating a sequence of 12 random numbers between 50 and 150\n",
        "random_numbers = [random.randint(50, 150) for _ in range(12)]\n",
        "# Print the random numbers\n",
        "print(\"Random numbers:\", random_numbers)\n",
        "\n",
        "# (b) Sort the numbers in ascending order\n",
        "ascending_numbers = sorted(random_numbers)\n",
        "print(\"Sorted numbers (Ascending):\", ascending_numbers)\n",
        "\n",
        "# (c) Sort the numbers in descending order\n",
        "descending_numbers = sorted(random_numbers, reverse=True)\n",
        "print(\"Sorted numbers (Descending):\", descending_numbers)\n",
        "\n",
        "# (d) Compute and output the average of the entire group of generated numbers\n",
        "tot_average = sum(random_numbers) / len(random_numbers)\n",
        "print(\"Average of the entire group:\", round(tot_average, 2))\n",
        "\n",
        "# (e) Calculate and display the average of the first 6 numbers from both the ascending and descending sorted lists\n",
        "average_first_6_ascending_num = sum(ascending_numbers[:6]) / 6\n",
        "average_first_6_descending_num = sum(descending_numbers[:6]) / 6\n",
        "\n",
        "print(\"Average of the first 6 numbers (Ascending):\", round(average_first_6_ascending_num, 2))\n",
        "print(\"Average of the first 6 numbers (Descending):\", round(average_first_6_descending_num, 2))\n"
      ],
      "metadata": {
        "colab": {
          "base_uri": "https://localhost:8080/"
        },
        "id": "mpo2bYi2CpmS",
        "outputId": "2223ad7a-4c22-40f2-95e1-9c15a1ba29cc"
      },
      "execution_count": 2,
      "outputs": [
        {
          "output_type": "stream",
          "name": "stdout",
          "text": [
            "Random numbers: [50, 106, 70, 116, 106, 92, 72, 56, 94, 86, 127, 55]\n",
            "Sorted numbers (Ascending): [50, 55, 56, 70, 72, 86, 92, 94, 106, 106, 116, 127]\n",
            "Sorted numbers (Descending): [127, 116, 106, 106, 94, 92, 86, 72, 70, 56, 55, 50]\n",
            "Average of the entire group: 85.83\n",
            "Average of the first 6 numbers (Ascending): 64.83\n",
            "Average of the first 6 numbers (Descending): 106.83\n"
          ]
        }
      ]
    },
    {
      "cell_type": "markdown",
      "source": [
        "# explaining in detail for every section from a to e of 2nd question\n"
      ],
      "metadata": {
        "id": "DmpvrusorDZp"
      }
    },
    {
      "cell_type": "code",
      "execution_count": 3,
      "metadata": {
        "id": "5QX6bJjGWXY9",
        "colab": {
          "base_uri": "https://localhost:8080/"
        },
        "outputId": "339f35db-3a0c-447d-f7cf-9ba9137c4139"
      },
      "outputs": [
        {
          "output_type": "stream",
          "name": "stdout",
          "text": [
            "Random numbers: [116, 110, 121, 138, 59, 67, 123, 72, 119, 100, 132, 87]\n"
          ]
        }
      ],
      "source": [
        "#  Executing every section individually\n",
        "# (a) Write a Python program to generate a sequence of 12 random numbers falling within the range of 50 to 150.\n",
        "import random\n",
        "\n",
        "# Generate 12 random numbers between 50 and 150\n",
        "random_numbers = [random.randint(50, 150) for _ in range(12)]\n",
        "\n",
        "# Print the random numbers\n",
        "print(\"Random numbers:\", random_numbers)\n",
        "\n",
        "\n"
      ]
    },
    {
      "cell_type": "code",
      "source": [
        "#b) Arrange the generated numbers in ascending order. Display the sorted list.\n",
        "import random\n",
        "\n",
        "# Generate 12 random numbers between 50 and 150\n",
        "random_numbers = [random.randint(50, 150) for _ in range(12)]\n",
        "\n",
        "# Print the random numbers\n",
        "print(\" The Random numbers:\", random_numbers)\n",
        "\n",
        "# Sort the numbers in ascending order\n",
        "random_numbers.sort()\n",
        "\n",
        "# Print the sorted list\n",
        "print(\"Numbers after Sorting random numbers:\", random_numbers)\n"
      ],
      "metadata": {
        "colab": {
          "base_uri": "https://localhost:8080/"
        },
        "id": "kaOMkN0sWROz",
        "outputId": "cac2ca4c-3616-42a8-f093-b3359577a0b4"
      },
      "execution_count": 4,
      "outputs": [
        {
          "output_type": "stream",
          "name": "stdout",
          "text": [
            " The Random numbers: [105, 114, 55, 118, 123, 56, 75, 116, 132, 133, 143, 119]\n",
            "Numbers after Sorting random numbers: [55, 56, 75, 105, 114, 116, 118, 119, 123, 132, 133, 143]\n"
          ]
        }
      ]
    },
    {
      "cell_type": "code",
      "source": [
        "# (c) Extend the program to arrange the numbers in descending order as well. Present the sorted list accordingly.\n",
        "import random\n",
        "\n",
        "# Generate 12 random numbers between 50 and 150\n",
        "random_numbers = [random.randint(50, 150) for _ in range(12)]\n",
        "\n",
        "# Sort the numbers in ascending order\n",
        "ascending_numbers = sorted(random_numbers)\n",
        "\n",
        "# Sort the numbers in descending order\n",
        "descending_numbers = sorted(random_numbers, reverse=True)\n",
        "\n",
        "\n",
        "# Print the random numbers\n",
        "print(\"Random numbers:\", random_numbers)\n",
        "\n",
        "# Print the sorted lists\n",
        "print(\"Sorted numbers (Ascending):\", ascending_numbers)\n",
        "print(\"Sorted numbers (Descending):\", descending_numbers)\n"
      ],
      "metadata": {
        "colab": {
          "base_uri": "https://localhost:8080/"
        },
        "id": "rwUtKlH7XLsZ",
        "outputId": "092c0208-55c3-42a9-feae-0dbc3117f5cf"
      },
      "execution_count": 5,
      "outputs": [
        {
          "output_type": "stream",
          "name": "stdout",
          "text": [
            "Random numbers: [122, 60, 91, 65, 146, 128, 130, 135, 105, 91, 98, 145]\n",
            "Sorted numbers (Ascending): [60, 65, 91, 91, 98, 105, 122, 128, 130, 135, 145, 146]\n",
            "Sorted numbers (Descending): [146, 145, 135, 130, 128, 122, 105, 98, 91, 91, 65, 60]\n"
          ]
        }
      ]
    },
    {
      "cell_type": "code",
      "source": [
        "# (d) Compute and output the average of the entire group of generated numbers.\n",
        "import random\n",
        "\n",
        "# Generate 12 random numbers between 50 and 150\n",
        "random_numbers = [random.randint(50, 150) for _ in range(12)]\n",
        "\n",
        "# Sort the numbers in ascending order\n",
        "ascending_numbers = sorted(random_numbers)\n",
        "\n",
        "# Sort the numbers in descending order\n",
        "descending_numbers = sorted(random_numbers, reverse=True)\n",
        "\n",
        "# Calculate the average of the numbers\n",
        "average = sum(random_numbers) / len(random_numbers)\n",
        "\n",
        "# Print the random numbers\n",
        "print(\" The Random numbers:\", random_numbers)\n",
        "\n",
        "# Print the sorted lists and the average\n",
        "print(\"Sorted numbers (Ascending):\", ascending_numbers)\n",
        "print(\"Sorted numbers (Descending):\", descending_numbers)\n",
        "print(\"Average of the numbers:\", round(average, 2))\n"
      ],
      "metadata": {
        "colab": {
          "base_uri": "https://localhost:8080/"
        },
        "id": "89gSU7m3XuAx",
        "outputId": "14a99e4e-a798-4a9c-e90a-fcebc31f72bd"
      },
      "execution_count": 6,
      "outputs": [
        {
          "output_type": "stream",
          "name": "stdout",
          "text": [
            " The Random numbers: [130, 98, 76, 134, 110, 110, 147, 97, 97, 117, 135, 60]\n",
            "Sorted numbers (Ascending): [60, 76, 97, 97, 98, 110, 110, 117, 130, 134, 135, 147]\n",
            "Sorted numbers (Descending): [147, 135, 134, 130, 117, 110, 110, 98, 97, 97, 76, 60]\n",
            "Average of the numbers: 109.25\n"
          ]
        }
      ]
    },
    {
      "cell_type": "code",
      "source": [
        "# (e) Enhance the program to calculate and display the average of the first 6 numbers from both the ascending and descending sorted lists.\n",
        "import random\n",
        "\n",
        "# Generate 12 random numbers between 50 and 150\n",
        "random_numbers = [random.randint(50, 150) for _ in range(12)]\n",
        "\n",
        "# Sort the numbers in ascending order\n",
        "ascending_numbers = sorted(random_numbers)\n",
        "\n",
        "# Sort the numbers in descending order\n",
        "descending_numbers = sorted(random_numbers, reverse=True)\n",
        "\n",
        "# Calculate the average of the entire list\n",
        "average = sum(random_numbers) / len(random_numbers)\n",
        "\n",
        "# Calculate the average of the first 6 numbers in ascending order\n",
        "average_first_6_ascending_order = sum(ascending_numbers[:6]) / 6\n",
        "\n",
        "# Calculate the average of the first 6 numbers in descending order\n",
        "average_first_6_descending_order = sum(descending_numbers[:6]) / 6\n",
        "\n",
        "# Print the random numbers\n",
        "print(\"Random numbers:\", random_numbers)\n",
        "\n",
        "# Print the sorted lists and the averages\n",
        "print(\"Sorted numbers (Ascending):\", ascending_numbers)\n",
        "print(\"Sorted numbers (Descending):\", descending_numbers)\n",
        "print(\"Average of the entire group:\", round(average, 2))\n",
        "print(\"Average of the first 6 (Ascending):\", round(average_first_6_ascending_order, 2))\n",
        "print(\"Average of the first 6 (Descending):\", round(average_first_6_descending_order, 2))\n"
      ],
      "metadata": {
        "colab": {
          "base_uri": "https://localhost:8080/"
        },
        "id": "5qfkmE9OYEpU",
        "outputId": "14e987bf-b39d-434f-90d4-7533ade38f09"
      },
      "execution_count": 7,
      "outputs": [
        {
          "output_type": "stream",
          "name": "stdout",
          "text": [
            "Random numbers: [116, 103, 143, 139, 74, 71, 147, 125, 55, 97, 145, 61]\n",
            "Sorted numbers (Ascending): [55, 61, 71, 74, 97, 103, 116, 125, 139, 143, 145, 147]\n",
            "Sorted numbers (Descending): [147, 145, 143, 139, 125, 116, 103, 97, 74, 71, 61, 55]\n",
            "Average of the entire group: 106.33\n",
            "Average of the first 6 (Ascending): 76.83\n",
            "Average of the first 6 (Descending): 135.83\n"
          ]
        }
      ]
    },
    {
      "cell_type": "markdown",
      "metadata": {
        "id": "1F_PZdH9Sh49"
      },
      "source": [
        "# Question 3 (20 points).\n",
        "\n",
        "Create a Python program that encompasses various string manipulation task:\n",
        "\n",
        "(a) Prompt the user to input two sentences.\n",
        "\n",
        "(b) Transform each sentence into a list, where each element corresponds to a word in the sentence. For example, if the sentences are \"Hello, how are you doing today?\" and \"This is an example sentence for the program!\"\n",
        "\n",
        "The program should output:\n",
        "['Hello', ',', 'how', 'are', 'you', 'doing', 'today', '?', 'This', 'is', 'an', 'example', 'sentence', 'for', 'the', 'program', '!']\n",
        "\n",
        "(c) Compare the two sentences. Print out a list of words that occur in both sentences.\n",
        "\n",
        "(d) Remove any punctuation from the sentence and print the sanitized sentences. It should remove at least the following characters, but it can remove more: period(“.”), comma (“,”), semicolon (“;”), and colon (“:”).\n",
        "\n",
        "(e) Count the number of vowels in each of the sentences. Print out each vowel and the occurrences  in the each of the two sentences separately, such as:\n",
        "\n",
        "Sentence1: a:2, e:2, i:0, etc.\n",
        "Sentence2: a:1, e:2, i:2, etc.\n",
        "\n",
        "Design a well-structured Python program to execute these tasks efficiently."
      ]
    },
    {
      "cell_type": "code",
      "execution_count": 8,
      "metadata": {
        "id": "Y0oOSlsOS0cq",
        "colab": {
          "base_uri": "https://localhost:8080/"
        },
        "outputId": "fdd8d8e9-ebdb-4500-c7d1-cb9ad2410118"
      },
      "outputs": [
        {
          "output_type": "stream",
          "name": "stdout",
          "text": [
            "Enter the first sentence: where is veer and Rhea?\n",
            "Enter the second sentence: veer and Rhea are playing in the garden!\n",
            "\n",
            "Combined list of words: ['where', 'is', 'veer', 'and', 'Rhea?', 'veer', 'and', 'Rhea', 'are', 'playing', 'in', 'the', 'garden!']\n",
            "\n",
            "Common words in both sentences: ['veer', 'and']\n",
            "\n",
            "Sentence 1 without punctuation: where is veer and Rhea\n",
            "Sentence 2 without punctuation: veer and Rhea are playing in the garden\n",
            "\n",
            "Vowel count in Sentence 1:\n",
            "a: 2\n",
            "e: 5\n",
            "i: 1\n",
            "o: 0\n",
            "u: 0\n",
            "A: 0\n",
            "E: 0\n",
            "I: 0\n",
            "O: 0\n",
            "U: 0\n",
            "\n",
            "Vowel count in Sentence 2:\n",
            "a: 5\n",
            "e: 6\n",
            "i: 2\n",
            "o: 0\n",
            "u: 0\n",
            "A: 0\n",
            "E: 0\n",
            "I: 0\n",
            "O: 0\n",
            "U: 0\n"
          ]
        }
      ],
      "source": [
        "# Your code here\n",
        "\n",
        "import string\n",
        "\n",
        "# Function to remove punctuation from a sentence\n",
        "def remove_punctuations(sentence):\n",
        "    return sentence.translate(str.maketrans('', '', string.punctuation))\n",
        "\n",
        "# Function to count vowels in a sentence\n",
        "def count_vowels(sentence):\n",
        "    vowels = \"aeiouAEIOU\"\n",
        "    count = {v: sentence.count(v) for v in vowels}\n",
        "    return count\n",
        "\n",
        "# Function to compare and find common words in two lists\n",
        "def common_words(list1, list2):\n",
        "    return list(set(list1) & set(list2))\n",
        "\n",
        "# (a) Prompt the user to input two sentences\n",
        "sentence1 = input(\"Enter the first sentence: \")\n",
        "sentence2 = input(\"Enter the second sentence: \")\n",
        "\n",
        "# (b) Transform each sentence into a list of words\n",
        "sentence1_list = sentence1.split()\n",
        "sentence2_list = sentence2.split()\n",
        "\n",
        "# Output the combined list of words\n",
        "combined_list = sentence1_list + sentence2_list\n",
        "print(\"\\nCombined list of words:\", combined_list)\n",
        "\n",
        "# (c) Compare the two sentences and print common words\n",
        "common = common_words(sentence1_list, sentence2_list)\n",
        "print(\"\\nCommon words in both sentences:\", common)\n",
        "\n",
        "# (d) Remove punctuation from the sentences\n",
        "\n",
        "print(\"\\nSentence 1 without punctuation:\", remove_punctuations(sentence1))\n",
        "print(\"Sentence 2 without punctuation:\", remove_punctuations(sentence2))\n",
        "\n",
        "# (e) Count vowels in each sentence\n",
        "vowel_count_1 = count_vowels(remove_punctuations(sentence1))\n",
        "vowel_count_2 = count_vowels(remove_punctuations(sentence2))\n",
        "\n",
        "# Print vowel counts for each sentence\n",
        "print(\"\\nVowel count in Sentence 1:\")\n",
        "for vowel, count in vowel_count_1.items():\n",
        "    print(f\"{vowel}: {count}\")\n",
        "\n",
        "print(\"\\nVowel count in Sentence 2:\")\n",
        "for vowel, count in vowel_count_2.items():\n",
        "    print(f\"{vowel}: {count}\")\n",
        "\n",
        "\n"
      ]
    },
    {
      "cell_type": "markdown",
      "source": [
        "# explaining in detail for every section from a to e of 3rd question"
      ],
      "metadata": {
        "id": "9Q0b44xhnoTo"
      }
    },
    {
      "cell_type": "code",
      "source": [
        "# explaining in detail for every section from a to e\n",
        "# (a) Prompt the user to input two sentences.\n",
        "sentence_1 = input(\"Enter the first sentence: \")\n",
        "sentence_2 = input(\"Enter the second sentence: \")\n",
        "\n",
        "# Display the entered sentences\n",
        "print(\"\\nFirst Sentence:\", sentence_1)\n",
        "print(\"Second Sentence:\", sentence_2)\n"
      ],
      "metadata": {
        "colab": {
          "base_uri": "https://localhost:8080/"
        },
        "id": "puZrvinrodVl",
        "outputId": "dd148705-66e5-4ad6-a391-cb914961bab2"
      },
      "execution_count": 9,
      "outputs": [
        {
          "output_type": "stream",
          "name": "stdout",
          "text": [
            "Enter the first sentence: where is veer and Rhea?\n",
            "Enter the second sentence: veer and Rhea are playing in the garden!\n",
            "\n",
            "First Sentence: where is veer and Rhea?\n",
            "Second Sentence: veer and Rhea are playing in the garden!\n"
          ]
        }
      ]
    },
    {
      "cell_type": "code",
      "source": [
        "# (b) Transform each sentence into a list of words\n",
        "sentence1 = input(\"Enter the first sentence: \")\n",
        "sentence2 = input(\"Enter the second sentence: \")\n",
        "\n",
        "# Split the sentences into lists of words\n",
        "sentence1_list = sentence1.split()\n",
        "sentence2_list = sentence2.split()\n",
        "\n",
        "# Display the lists\n",
        "print(\"\\nList of words in the first sentence:\", sentence1_list)\n",
        "print(\"List of words in the second sentence:\", sentence2_list)\n",
        "\n"
      ],
      "metadata": {
        "colab": {
          "base_uri": "https://localhost:8080/"
        },
        "id": "0hwzhc59pMU_",
        "outputId": "2ef418cd-9d38-4fb6-8c80-a54c6974caa6"
      },
      "execution_count": 10,
      "outputs": [
        {
          "output_type": "stream",
          "name": "stdout",
          "text": [
            "Enter the first sentence: where is veer and Rhea?\n",
            "Enter the second sentence: veer and Rhea are playing in the garden!\n",
            "\n",
            "List of words in the first sentence: ['where', 'is', 'veer', 'and', 'Rhea?']\n",
            "List of words in the second sentence: ['veer', 'and', 'Rhea', 'are', 'playing', 'in', 'the', 'garden!']\n"
          ]
        }
      ]
    },
    {
      "cell_type": "code",
      "source": [
        "# (c) Compare the two sentences and print common words\n",
        "def find_common_words(sentence1, sentence2):\n",
        "    # Split the sentences into words\n",
        "    sentence1_list = sentence1.split()\n",
        "    sentence2_list = sentence2.split()\n",
        "\n",
        "    # Find common words using set intersection\n",
        "    common_words = list(set(sentence1_list) & set(sentence2_list))\n",
        "\n",
        "    return common_words\n",
        "\n",
        "# Prompt the user to input two sentences\n",
        "sentence1 = input(\"Enter the first sentence: \")\n",
        "sentence2 = input(\"Enter the second sentence: \")\n",
        "\n",
        "# Find and display common words\n",
        "common_words = find_common_words(sentence1, sentence2)\n",
        "print(\"\\nCommon words in both sentences:\", common_words)\n",
        "\n"
      ],
      "metadata": {
        "colab": {
          "base_uri": "https://localhost:8080/"
        },
        "id": "uJksZW6FBAGB",
        "outputId": "257e4d6d-2272-4b3e-e6b5-409951953e5f"
      },
      "execution_count": 11,
      "outputs": [
        {
          "output_type": "stream",
          "name": "stdout",
          "text": [
            "Enter the first sentence: where is veer and Rhea?\n",
            "Enter the second sentence: veer and Rhea are playing in the garden!\n",
            "\n",
            "Common words in both sentences: ['veer', 'and']\n"
          ]
        }
      ]
    },
    {
      "cell_type": "code",
      "source": [
        "import string\n",
        "\n",
        "# (d) Function to remove punctuation from a sentence\n",
        "def remove_punctuation(sentence):\n",
        "    return sentence.translate(str.maketrans('', '', string.punctuation))\n",
        "\n",
        "# Prompt the user to input two sentences\n",
        "sentence1 = input(\"Enter the first sentence: \")\n",
        "sentence2 = input(\"Enter the second sentence: \")\n",
        "\n",
        "# Remove punctuation from both sentences\n",
        "sentence1_clean = remove_punctuation(sentence1)\n",
        "sentence2_clean = remove_punctuation(sentence2)\n",
        "\n",
        "# Display the sanitized sentences\n",
        "print(\"\\nFirst sentence without punctuation:\", sentence1_clean)\n",
        "print(\"Second sentence without punctuation:\", sentence2_clean)\n"
      ],
      "metadata": {
        "colab": {
          "base_uri": "https://localhost:8080/"
        },
        "id": "dsmINxUNBZpm",
        "outputId": "c5398a69-7f41-49c7-d72c-aacb21e9e416"
      },
      "execution_count": 12,
      "outputs": [
        {
          "output_type": "stream",
          "name": "stdout",
          "text": [
            "Enter the first sentence: where is veer and Rhea?\n",
            "Enter the second sentence: veer and Rhea are playing in the garden!\n",
            "\n",
            "First sentence without punctuation: where is veer and Rhea\n",
            "Second sentence without punctuation: veer and Rhea are playing in the garden\n"
          ]
        }
      ]
    },
    {
      "cell_type": "code",
      "source": [
        "#e) Function to count vowels in a sentence\n",
        "def count_vowels(sentence):\n",
        "    vowels = \"aeiouAEIOU\"\n",
        "    # Create a dictionary to hold the count for each vowel\n",
        "    vowel_count = {v: sentence.count(v) for v in vowels}\n",
        "    return vowel_count\n",
        "\n",
        "# Prompt the user to input two sentences\n",
        "sentence1 = input(\"Enter the first sentence: \")\n",
        "sentence2 = input(\"Enter the second sentence: \")\n",
        "\n",
        "# Count the vowels in each sentence\n",
        "vowel_count_1 = count_vowels(sentence1)\n",
        "vowel_count_2 = count_vowels(sentence2)\n",
        "\n",
        "# Display the vowel counts for the first sentence\n",
        "print(\"\\nVowel count in Sentence 1:\")\n",
        "for vowel in \"aeiou\":\n",
        "    print(f\"{vowel}: {vowel_count_1.get(vowel, 0)}\")\n",
        "\n",
        "# Display the vowel counts for the second sentence\n",
        "print(\"\\nVowel count in Sentence 2:\")\n",
        "for vowel in \"aeiou\":\n",
        "    print(f\"{vowel}: {vowel_count_2.get(vowel, 0)}\")\n"
      ],
      "metadata": {
        "colab": {
          "base_uri": "https://localhost:8080/"
        },
        "id": "tk3RVhGcCdX-",
        "outputId": "a2d24c5d-d01d-42ca-c01e-44e3d09fb7bc"
      },
      "execution_count": 13,
      "outputs": [
        {
          "output_type": "stream",
          "name": "stdout",
          "text": [
            "Enter the first sentence: where is veer and Rhea?\n",
            "Enter the second sentence: veer and Rhea are playing in the garden!\n",
            "\n",
            "Vowel count in Sentence 1:\n",
            "a: 2\n",
            "e: 5\n",
            "i: 1\n",
            "o: 0\n",
            "u: 0\n",
            "\n",
            "Vowel count in Sentence 2:\n",
            "a: 5\n",
            "e: 6\n",
            "i: 2\n",
            "o: 0\n",
            "u: 0\n"
          ]
        }
      ]
    },
    {
      "cell_type": "markdown",
      "source": [
        "# Question 4 (20 Points)"
      ],
      "metadata": {
        "id": "OP4-5qxAtInv"
      }
    },
    {
      "cell_type": "markdown",
      "source": [
        "Design and implement a simple command-line calculator program. The program should handle both integers and floating-point numbers.\n",
        "\n",
        "(a) Write program that takes a mathematical expression as input and evaluates it. The program should support addition, subtraction, multiplication, and division.\n",
        "\n",
        "(b) Extend the calculator to handle parentheses in mathematical expressions. Implement the necessary logic to evaluate expressions with nested parentheses.\n",
        "\n",
        "(c) Enhance your calculator to include additional mathematical operations such as exponentiation, square root, and modulus.\n",
        "\n",
        "(d) Implement error handling in the calculator program. Handle cases such as division by zero and invalid input expressions. Provide meaningful error messages.\n",
        "\n",
        "(e) Implement a command to exit the calculator."
      ],
      "metadata": {
        "id": "uzN4_hDptK9U"
      }
    },
    {
      "cell_type": "code",
      "source": [
        "import math\n",
        "\n",
        "#a) Function to evaluate mathematical expressions\n",
        "def evaluate_expression(expression):\n",
        "    try:\n",
        "        # b)Evaluate the expression using eval(), which handles basic operations and parentheses\n",
        "        result = eval(expression)\n",
        "        return result\n",
        "    # (d) Enhanced error handling\n",
        "    except ZeroDivisionError:\n",
        "        return \"Error: Division by zero is not allowed.\"\n",
        "    except SyntaxError:\n",
        "        return \"Error: Invalid syntax in the expression.\"\n",
        "    except NameError:\n",
        "        return \"Error: Invalid input. Please enter valid numbers.\"\n",
        "    except Exception as e:\n",
        "        return f\"Error: {e}\"\n",
        "\n",
        "def main():\n",
        "    print(\"Welcome to the Advanced Calculator!\")\n",
        "    print(\"Supported operations: addition (+), subtraction (-), multiplication (*), division (/), exponentiation (**), modulus (%), square root (sqrt()), and parentheses ().\")\n",
        "    print(\"Type 'exit' to quit the calculator.\\n\")\n",
        "\n",
        "    while True:\n",
        "        # a)Prompt the user for a mathematical expression\n",
        "        expression = input(\"Enter a mathematical expression (or type 'exit' to quit): \")\n",
        "\n",
        "        #e) Check if the user wants to exit\n",
        "        if expression.lower() == 'exit':\n",
        "            print(\"Exiting the calculator. Goodbye!\")\n",
        "            break\n",
        "\n",
        "        # c) Check for square root operation\n",
        "        if 'sqrt' in expression:\n",
        "            try:\n",
        "                # Replace 'sqrt()' with math.sqrt() for handling square root\n",
        "                expression = expression.replace('sqrt(', 'math.sqrt(')\n",
        "            except Exception as e:\n",
        "                print(f\"Error: {e}\")\n",
        "                continue\n",
        "\n",
        "        # Evaluate the expression and print the result\n",
        "        result = evaluate_expression(expression)\n",
        "        print(f\"Result: {result}\\n\")\n",
        "\n",
        "if __name__ == \"__main__\":\n",
        "    main()\n"
      ],
      "metadata": {
        "id": "8nQnVxjJuYtu",
        "colab": {
          "base_uri": "https://localhost:8080/"
        },
        "outputId": "6957fb1a-b478-49d7-c10e-1b615824c049"
      },
      "execution_count": 14,
      "outputs": [
        {
          "output_type": "stream",
          "name": "stdout",
          "text": [
            "Welcome to the Advanced Calculator!\n",
            "Supported operations: addition (+), subtraction (-), multiplication (*), division (/), exponentiation (**), modulus (%), square root (sqrt()), and parentheses ().\n",
            "Type 'exit' to quit the calculator.\n",
            "\n",
            "Enter a mathematical expression (or type 'exit' to quit): 5*3+2\n",
            "Result: 17\n",
            "\n",
            "Enter a mathematical expression (or type 'exit' to quit): (5*3)+2\n",
            "Result: 17\n",
            "\n",
            "Enter a mathematical expression (or type 'exit' to quit): ((5*3)+2)/2\n",
            "Result: 8.5\n",
            "\n",
            "Enter a mathematical expression (or type 'exit' to quit): ((5*3)+2)%2\n",
            "Result: 1\n",
            "\n",
            "Enter a mathematical expression (or type 'exit' to quit): sqrt(5*7)+4\n",
            "Result: 9.916079783099615\n",
            "\n",
            "Enter a mathematical expression (or type 'exit' to quit): sqrt(5*9)+4\n",
            "Result: 10.70820393249937\n",
            "\n",
            "Enter a mathematical expression (or type 'exit' to quit): sqrt((5*9)+4)\n",
            "Result: 7.0\n",
            "\n",
            "Enter a mathematical expression (or type 'exit' to quit): 9+3-12\n",
            "Result: 0\n",
            "\n",
            "Enter a mathematical expression (or type 'exit' to quit): exit\n",
            "Exiting the calculator. Goodbye!\n"
          ]
        }
      ]
    },
    {
      "cell_type": "markdown",
      "metadata": {
        "id": "z3tBE7E-Xn5X"
      },
      "source": [
        "# Question 5 (30 points).\n",
        "\n",
        "In the field of Data Science, data is often formatted as a comma-delimited (CSV) file, where each line in a file corresponds to a field's value. Refer to Chapter 9 (p. 106) for more information on comma-delimited files.\n",
        "\n",
        "To answer this question, you will need to download the file [Assignment1_denton_housing.csv](https://raw.githubusercontent.com/unt-iialab/info5731-spring2022/main/assignments/Assignment1_denton_housing.csv) included with this assignment. The file contains statistics about housing in the city of Denton from 2008 to 2014. Write a program to implement the following questions.\n",
        "\n",
        "(a) (5 pts) Calculate the difference in the number of Occupied Housing Units from year to year and print it. The difference must be calculated for the consecutive years such as 2008-2009, 2009-2010 etc. Finally, print the values in the ascending order.\n",
        "\n",
        "(b) (5 pts) For all the years, calculate the percentage of housing units which are vacant an occupied. Print the results in the following format:\n",
        "\n",
        "Year Vacant Housing Units Occupied Housing Units\n",
        "\n",
        "    2008  30%   70%                          \n",
        "\t2009 ----- -----\n",
        "\t2010 ----- -----\n",
        "    2011 ----- -----\n",
        "\t2012 ----- -----\n",
        "    2013 ----- -----\n",
        "\t2014 ----- -----\n",
        "  \n",
        "  \n",
        "\n",
        "(c) (10 pts) Calculate and print the valued and years in which the highest number of housing units were vacant and occupied. Print the results in the following format:  \n",
        "\n",
        "                              Year\tValue\n",
        "\tVacant Housing Units\t  -----   -----\n",
        "\tOccupied Housing Units\t-----   -----\n",
        "\n",
        "(d) (10 pts) Calculate the harmonic mean of the total housing units and print it out. You can find the information about harmonic mean here: https://ncalculators.com/statistics/harmonic-mean-calculator.htm"
      ]
    },
    {
      "cell_type": "code",
      "execution_count": 15,
      "metadata": {
        "id": "lqGYuHBhcsRH",
        "colab": {
          "base_uri": "https://localhost:8080/"
        },
        "outputId": "426107ca-be59-41fe-8dc5-ce596117ab83"
      },
      "outputs": [
        {
          "output_type": "stream",
          "name": "stdout",
          "text": [
            "\n",
            "Sorted Yearly Differences in Occupied Housing Units:\n",
            "2008-2009: -795.0\n",
            "2009-2010: -303.0\n",
            "2010-2011: 1404.0\n",
            "2011-2012: 1565.0\n",
            "2012-2013: 2622.0\n",
            "2013-2014: 5091.0\n",
            "\n",
            "Year       Vacant Units (%)     Occupied Units (%)       \n",
            "2014       1.94                 31.84                    \n",
            "2013       3.00                 31.12                    \n",
            "2012       2.26                 31.61                    \n",
            "2011       3.21                 30.99                    \n",
            "2010       2.77                 31.29                    \n",
            "2009       3.10                 31.05                    \n",
            "2008       3.74                 30.63                    \n",
            "\n",
            "Year with Maximum Vacant and Occupied Units:\n",
            "Category                  Year       Units     \n",
            "Vacant Units               2008       4483      \n",
            "Occupied Units             2014       46295     \n",
            "\n",
            "Harmonic Mean of Total Housing Units: 130257.98\n"
          ]
        }
      ],
      "source": [
        "import pandas as pd\n",
        "import statistics\n",
        "\n",
        "# a) Function to compute year-over-year differences in occupied housing units\n",
        "def compute_yearly_differences(data):\n",
        "    occupied_data = data[data['title_field'] == 'Occupied Housing Units']\n",
        "    occupied_data = occupied_data[['year', 'value']].sort_values(by='year')\n",
        "    differences = occupied_data['value'].diff().dropna()\n",
        "    sorted_differences = differences.sort_values()\n",
        "\n",
        "    print(\"\\nSorted Yearly Differences in Occupied Housing Units:\")\n",
        "    for i, diff in enumerate(sorted_differences, start=1):\n",
        "        print(f\"{occupied_data.iloc[i-1]['year']}-{occupied_data.iloc[i]['year']}: {diff}\")\n",
        "    return sorted_differences\n",
        "\n",
        "# b) Function to calculate and display the percentage of vacant vs. occupied housing units\n",
        "def calculate_unit_percentages(data):\n",
        "    years = data['year'].unique()\n",
        "    print(f\"\\n{'Year':<10} {'Vacant Units (%)':<20} {'Occupied Units (%)':<25}\")\n",
        "    for year in years:\n",
        "        total_units = data[data['year'] == year]['value'].sum()\n",
        "        vacant_units = data[(data['year'] == year) & (data['title_field'] == 'Vacant Housing Units')]['value'].values[0]\n",
        "        occupied_units = data[(data['year'] == year) & (data['title_field'] == 'Occupied Housing Units')]['value'].values[0]\n",
        "        vacant_pct = (vacant_units / total_units) * 100\n",
        "        occupied_pct = (occupied_units / total_units) * 100\n",
        "        print(f\"{year:<10} {vacant_pct:<20.2f} {occupied_pct:<25.2f}\")\n",
        "\n",
        "# c) Function to find and print the year with maximum vacant and occupied units\n",
        "def max_vacant_occupied_year(data):\n",
        "    vacant_data = data[data['title_field'] == 'Vacant Housing Units']\n",
        "    occupied_data = data[data['title_field'] == 'Occupied Housing Units']\n",
        "    max_vacant_year = vacant_data.loc[vacant_data['value'].idxmax()]\n",
        "    max_occupied_year = occupied_data.loc[occupied_data['value'].idxmax()]\n",
        "\n",
        "    print(\"\\nYear with Maximum Vacant and Occupied Units:\")\n",
        "    print(f\"{'Category':<25} {'Year':<10} {'Units':<10}\")\n",
        "    print(f\"Vacant Units               {max_vacant_year['year']:<10} {max_vacant_year['value']:<10}\")\n",
        "    print(f\"Occupied Units             {max_occupied_year['year']:<10} {max_occupied_year['value']:<10}\")\n",
        "\n",
        "# d) Function to compute the harmonic mean of total housing units\n",
        "def harmonic_mean_total_units(data):\n",
        "    yearly_totals = data.groupby('year')['value'].sum()\n",
        "    harmonic_mean = statistics.harmonic_mean(yearly_totals)\n",
        "    print(f\"\\nHarmonic Mean of Total Housing Units: {harmonic_mean:.2f}\")\n",
        "\n",
        "# Main function to load data and call the relevant analysis functions\n",
        "def main():\n",
        "    # Loading data from the provided CSV file\n",
        "    data = pd.read_csv('Assignment1_denton_housing.csv')\n",
        "\n",
        "    # (a) Compute and print year-over-year differences in occupied housing units\n",
        "    compute_yearly_differences(data)\n",
        "\n",
        "    # (b) Calculate and display the percentage of vacant and occupied housing units by year\n",
        "    calculate_unit_percentages(data)\n",
        "\n",
        "    # (c) Find the year with the highest number of vacant and occupied housing units\n",
        "    max_vacant_occupied_year(data)\n",
        "\n",
        "    # (d) Compute the harmonic mean of total housing units over the years\n",
        "    harmonic_mean_total_units(data)\n",
        "\n",
        "if __name__ == \"__main__\":\n",
        "    main()\n",
        "\n"
      ]
    },
    {
      "cell_type": "markdown",
      "source": [
        "# Mandatory Question\n",
        "\n",
        "Provide your thoughts on the assignment. What did you find challenging, and what aspects did you enjoy? Your opinion on the provided time to complete the assignment. Share any suggestions for improvement. Your feedback will be valuable for enhancing the learning experience."
      ],
      "metadata": {
        "id": "q8BFCvWp32cf"
      }
    },
    {
      "cell_type": "code",
      "source": [
        "'''\n",
        "# Write your response below\n",
        "\n",
        "\n",
        "Working with real-world data was made easier by this project, especially when it came to using Python to comprehend and manipulate CSV files.\n",
        "The most difficult parts were correctly analyzing the data and using statistical techniques like the harmonic mean.\n",
        "While challenging, correctly formatting the output was very satisfying.\n",
        "I liked applying pandas and other Python modules to tackle real-world issues, which improved my data analytic abilities.\n",
        "For those with some experience, the allotted time was sufficient; nevertheless, novices may want additional time.\n",
        "More checkpoints and more explicit instructions on the dataset would enhance the experience and increase its educational value.\n",
        "'''"
      ],
      "metadata": {
        "id": "_e557s2w4BpK",
        "colab": {
          "base_uri": "https://localhost:8080/",
          "height": 104
        },
        "outputId": "14b15006-c9e5-4407-b544-5fbc368eb5ca"
      },
      "execution_count": 16,
      "outputs": [
        {
          "output_type": "execute_result",
          "data": {
            "text/plain": [
              "'\\n# Write your response below\\n\\n\\nWorking with real-world data was made easier by this project, especially when it came to using Python to comprehend and manipulate CSV files. \\nThe most difficult parts were correctly analyzing the data and using statistical techniques like the harmonic mean. \\nWhile challenging, correctly formatting the output was very satisfying. \\nI liked applying pandas and other Python modules to tackle real-world issues, which improved my data analytic abilities.\\nFor those with some experience, the allotted time was sufficient; nevertheless, novices may want additional time.\\nMore checkpoints and more explicit instructions on the dataset would enhance the experience and increase its educational value.\\n'"
            ],
            "application/vnd.google.colaboratory.intrinsic+json": {
              "type": "string"
            }
          },
          "metadata": {},
          "execution_count": 16
        }
      ]
    }
  ],
  "metadata": {
    "colab": {
      "provenance": [],
      "include_colab_link": true
    },
    "kernelspec": {
      "display_name": "Python 3 (ipykernel)",
      "language": "python",
      "name": "python3"
    },
    "language_info": {
      "codemirror_mode": {
        "name": "ipython",
        "version": 3
      },
      "file_extension": ".py",
      "mimetype": "text/x-python",
      "name": "python",
      "nbconvert_exporter": "python",
      "pygments_lexer": "ipython3",
      "version": "3.9.12"
    }
  },
  "nbformat": 4,
  "nbformat_minor": 0
}