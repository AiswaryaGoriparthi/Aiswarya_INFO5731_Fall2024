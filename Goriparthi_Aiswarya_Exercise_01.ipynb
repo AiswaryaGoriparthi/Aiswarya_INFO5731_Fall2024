{
  "cells": [
    {
      "cell_type": "markdown",
      "metadata": {
        "id": "view-in-github",
        "colab_type": "text"
      },
      "source": [
        "<a href=\"https://colab.research.google.com/github/AiswaryaGoriparthi/Aiswarya_INFO5731_Fall2024/blob/main/Goriparthi_Aiswarya_Exercise_01.ipynb\" target=\"_parent\"><img src=\"https://colab.research.google.com/assets/colab-badge.svg\" alt=\"Open In Colab\"/></a>"
      ]
    },
    {
      "cell_type": "markdown",
      "metadata": {
        "id": "DymRJbxDBCnf"
      },
      "source": [
        "# **INFO5731 Exercise 1**\n",
        "\n",
        "This exercise covers a variety of fundamental concepts in Python and is designed to help students improve their coding skills and problem-solving abilities.\n",
        "\n",
        "**Expectations**:\n",
        "*   Students are expected to complete the exercise during lecture period to meet the active participation criteria of the course.\n",
        "*   Use the provided .*ipynb* document to write your code & respond to the questions. Avoid generating a new file.\n",
        "*   Write complete answers and run all the cells before submission.\n",
        "*   Make sure the submission is \"clean\"; *i.e.*, no unnecessary code cells.\n",
        "*   Once finished, allow shared rights from top right corner (*see Canvas for details*).\n",
        "\n",
        "**Total points**: 40\n",
        "\n",
        "**Deadline**: This in-class exercise is due at the end of the day tomorrow, at 11:59 PM.\n",
        "\n",
        "**Late submissions cannot be considered, and no requests will be answered. Manage your time accordingly.**\n"
      ]
    },
    {
      "cell_type": "markdown",
      "source": [
        "## Question 1\n",
        "Write a Python program that  prompts the user to input the length and width of a rectangle, and then calculates and displays the area of the rectangle."
      ],
      "metadata": {
        "id": "FBKvD6O_TY6e"
      }
    },
    {
      "cell_type": "code",
      "source": [
        "# write your answer here\n",
        "# a=\"abracadabra\"\n",
        "# a.upper()\n",
        "\n",
        "# Prompt the user for the length and width of the rectangle\n",
        "length = float(input(\"Enter the length of the rectangle: \"))\n",
        "width = float(input(\"Enter the width of the rectangle: \"))\n",
        "\n",
        "# Calculate the area of the rectangle\n",
        "area = length * width\n",
        "\n",
        "# Display the area of the rectangle\n",
        "print(f\"The area of the rectangle is: {area}\")\n",
        "\n"
      ],
      "metadata": {
        "id": "cikVKDXdTbzE",
        "colab": {
          "base_uri": "https://localhost:8080/"
        },
        "outputId": "841e5c09-93cc-4518-bdc4-8a3e67f9d727"
      },
      "execution_count": 47,
      "outputs": [
        {
          "output_type": "stream",
          "name": "stdout",
          "text": [
            "Enter the length of the rectangle: 1\n",
            "Enter the width of the rectangle: 2\n",
            "The area of the rectangle is: 2.0\n"
          ]
        }
      ]
    },
    {
      "cell_type": "markdown",
      "source": [
        "## Question 2\n",
        "Create a Python program that interactively takes two numerical inputs from the user and swaps their values without utilizing an extra variable."
      ],
      "metadata": {
        "id": "E9RqrlwdTfvl"
      }
    },
    {
      "cell_type": "code",
      "source": [
        "# write your answer here\n",
        "# Prompt the user for two numerical inputs\n",
        "num1 = float(input(\"Enter the first number: \"))\n",
        "num2 = float(input(\"Enter the second number: \"))\n",
        "\n",
        "# Swap the values without using an extra variable\n",
        "num1, num2 = num2, num1\n",
        "\n",
        "# Display the swapped values\n",
        "print(f\"After swapping, the first number is: {num1}\")\n",
        "print(f\"After swapping, the second number is: {num2}\")\n"
      ],
      "metadata": {
        "id": "4XvRknixTh1g",
        "colab": {
          "base_uri": "https://localhost:8080/"
        },
        "outputId": "86ceec5e-7e0b-4c69-9d81-a4305a84b08e"
      },
      "execution_count": 22,
      "outputs": [
        {
          "output_type": "stream",
          "name": "stdout",
          "text": [
            "Enter the first number: 1\n",
            "Enter the second number: 2\n",
            "After swapping, the first number is: 2.0\n",
            "After swapping, the second number is: 1.0\n"
          ]
        }
      ]
    },
    {
      "cell_type": "markdown",
      "metadata": {
        "id": "03jb4GZsBkBS"
      },
      "source": [
        "## Question 3\n",
        "Write a Python script to determine and print the length of a user-input string."
      ]
    },
    {
      "cell_type": "code",
      "execution_count": 23,
      "metadata": {
        "id": "YaGLbSHHB8Ej",
        "colab": {
          "base_uri": "https://localhost:8080/"
        },
        "outputId": "a58ba959-9fea-4e78-96db-d008a40f210b"
      },
      "outputs": [
        {
          "output_type": "stream",
          "name": "stdout",
          "text": [
            "Enter a string: aiswarya\n",
            "The length of the string is: 8\n"
          ]
        }
      ],
      "source": [
        "# write your answer here\n",
        "# Prompt the user to input a string\n",
        "user_string = input(\"Enter a string: \")\n",
        "\n",
        "# Calculate the length of the string\n",
        "string_length = len(user_string)\n",
        "\n",
        "# Display the length of the string\n",
        "print(f\"The length of the string is: {string_length}\")\n",
        "\n"
      ]
    },
    {
      "cell_type": "markdown",
      "metadata": {
        "id": "jJDe71iLB616"
      },
      "source": [
        "## Question 4\n",
        "Construct a Python program that counts and displays the occurrences of each character in a given string.\n",
        "\n",
        "Sample String: 'openai.ai',\n",
        "\n",
        "Expected Result: {'a': 2, 'i': 2, '.': 1, 'o': 1, 'p': 1, 'e': 1, 'n': 1}"
      ]
    },
    {
      "cell_type": "code",
      "execution_count": 24,
      "metadata": {
        "id": "MtKskTzbCLaU",
        "colab": {
          "base_uri": "https://localhost:8080/"
        },
        "outputId": "5084baa9-2152-4418-c1c8-c2a60dfafae6"
      },
      "outputs": [
        {
          "output_type": "stream",
          "name": "stdout",
          "text": [
            "Enter a string: aiswarya\n",
            "Character counts: {'a': 3, 'i': 1, 's': 1, 'w': 1, 'r': 1, 'y': 1}\n"
          ]
        }
      ],
      "source": [
        "# write your answer here\n",
        "# Prompt the user to input a string\n",
        "user_string = input(\"Enter a string: \")\n",
        "\n",
        "# Initialize an empty dictionary to store character counts\n",
        "char_count = {}\n",
        "\n",
        "# Iterate through each character in the string\n",
        "for char in user_string:\n",
        "    # If the character is already in the dictionary, increment its count\n",
        "    if char in char_count:\n",
        "        char_count[char] += 1\n",
        "    # If the character is not in the dictionary, add it with a count of 1\n",
        "    else:\n",
        "        char_count[char] = 1\n",
        "\n",
        "# Display the character counts\n",
        "print(\"Character counts:\", char_count)\n",
        "\n"
      ]
    },
    {
      "cell_type": "markdown",
      "metadata": {
        "id": "55W9AMdXCSpV"
      },
      "source": [
        "## Question 5\n",
        "Design a Python code to calculate the sum of all elements in a user-provided list."
      ]
    },
    {
      "cell_type": "code",
      "execution_count": 25,
      "metadata": {
        "id": "I57NXsauCec2",
        "colab": {
          "base_uri": "https://localhost:8080/"
        },
        "outputId": "af7b0fe0-eb60-4aed-d7ca-52f310b872a5"
      },
      "outputs": [
        {
          "output_type": "stream",
          "name": "stdout",
          "text": [
            "Enter a list of numbers, separated by spaces: 1 2 3 4 5 6 7 8 9\n",
            "The sum of all elements in the list is: 45.0\n"
          ]
        }
      ],
      "source": [
        "# write your answer here\n",
        "# Prompt the user to input a list of numbers, separated by spaces\n",
        "user_input = input(\"Enter a list of numbers, separated by spaces: \")\n",
        "\n",
        "# Convert the input string into a list of floats\n",
        "numbers_list = list(map(float, user_input.split()))\n",
        "\n",
        "# Calculate the sum of all elements in the list\n",
        "total_sum = sum(numbers_list)\n",
        "\n",
        "# Display the sum of the elements\n",
        "print(f\"The sum of all elements in the list is: {total_sum}\")\n",
        "\n"
      ]
    },
    {
      "cell_type": "markdown",
      "metadata": {
        "id": "4ulBZ6yhCi9F"
      },
      "source": [
        "## Question 6\n",
        "Write a Python program that modifies a given string by replacing all occurrences of its first character with '$', excluding the first character itself.\n",
        "\n",
        "\n",
        "Sample String : 'restart‘\n",
        "Expected Result : 'resta\\$t'"
      ]
    },
    {
      "cell_type": "code",
      "execution_count": 26,
      "metadata": {
        "id": "Fj0XhwbBCw2o",
        "colab": {
          "base_uri": "https://localhost:8080/"
        },
        "outputId": "ba7258dd-3454-4654-d24e-1d369af50bd9"
      },
      "outputs": [
        {
          "output_type": "stream",
          "name": "stdout",
          "text": [
            "Enter a string: aiswarya\n",
            "Modified string: aisw$ry$\n"
          ]
        }
      ],
      "source": [
        "# write your answer here\n",
        "# Prompt the user to input a string\n",
        "user_string = input(\"Enter a string: \")\n",
        "\n",
        "# Get the first character of the string\n",
        "first_char = user_string[0]\n",
        "\n",
        "# Replace all occurrences of the first character with '$', except for the first occurrence\n",
        "modified_string = first_char + user_string[1:].replace(first_char, '$')\n",
        "\n",
        "# Display the modified string\n",
        "print(\"Modified string:\", modified_string)\n",
        "\n"
      ]
    },
    {
      "cell_type": "markdown",
      "source": [
        "## Question 7\n",
        "Write a Python program using a while loop to compute the factorial of a user-supplied number."
      ],
      "metadata": {
        "id": "qVXA3q7ET5JI"
      }
    },
    {
      "cell_type": "code",
      "source": [
        "# write your answer here\n",
        "# Prompt the user to input a number\n",
        "number = int(input(\"Enter a non-negative integer: \"))\n",
        "\n",
        "# Initialize the factorial result to 1\n",
        "factorial = 1\n",
        "\n",
        "# Use a while loop to compute the factorial\n",
        "current_number = number\n",
        "while current_number > 1:\n",
        "    factorial *= current_number\n",
        "    current_number -= 1\n",
        "\n",
        "# Display the factorial result\n",
        "print(f\"The factorial of {number} is: {factorial}\")\n"
      ],
      "metadata": {
        "id": "Lbt7R6UkT7BA",
        "colab": {
          "base_uri": "https://localhost:8080/"
        },
        "outputId": "8a0a308a-7881-4b06-8f97-8fd34eb90c0d"
      },
      "execution_count": 27,
      "outputs": [
        {
          "output_type": "stream",
          "name": "stdout",
          "text": [
            "Enter a non-negative integer: 5\n",
            "The factorial of 5 is: 120\n"
          ]
        }
      ]
    },
    {
      "cell_type": "markdown",
      "source": [
        "## Question 8\n",
        "Create a program that accepts a list of numbers as input and outputs a new list containing only the even numbers."
      ],
      "metadata": {
        "id": "6YfbzXMNT--R"
      }
    },
    {
      "cell_type": "code",
      "source": [
        "# write your answer here\n",
        "# Prompt the user to input a list of numbers, separated by spaces\n",
        "user_input = input(\"Enter a list of numbers, separated by spaces: \")\n",
        "\n",
        "# Convert the input string into a list of integers\n",
        "numbers_list = list(map(int, user_input.split()))\n",
        "\n",
        "# Use a list comprehension to filter out the even numbers\n",
        "even_numbers = [num for num in numbers_list if num % 2 == 0]\n",
        "\n",
        "# Display the list of even numbers\n",
        "print(\"List of even numbers:\", even_numbers)\n"
      ],
      "metadata": {
        "id": "54q7wMQPUAKu",
        "colab": {
          "base_uri": "https://localhost:8080/"
        },
        "outputId": "61872438-df3e-42ef-98bb-feaa22f39f3b"
      },
      "execution_count": 28,
      "outputs": [
        {
          "output_type": "stream",
          "name": "stdout",
          "text": [
            "Enter a list of numbers, separated by spaces: 1 2 3 4 5 6 7 8 9\n",
            "List of even numbers: [2, 4, 6, 8]\n"
          ]
        }
      ]
    },
    {
      "cell_type": "markdown",
      "metadata": {
        "id": "_bIP7s1MCzue"
      },
      "source": [
        "## Question 9\n",
        "Design a Python function to check if a number is prime.\n"
      ]
    },
    {
      "cell_type": "code",
      "execution_count": 29,
      "metadata": {
        "id": "w79QilHXD3Mg",
        "colab": {
          "base_uri": "https://localhost:8080/"
        },
        "outputId": "d0b8299f-a1bb-423d-f23b-6c858e6be6ef"
      },
      "outputs": [
        {
          "output_type": "stream",
          "name": "stdout",
          "text": [
            "Enter a number to check if it's prime: 29\n",
            "29 is a prime number.\n"
          ]
        }
      ],
      "source": [
        "# write your answer here\n",
        "def is_prime(number):\n",
        "    # Handle edge cases\n",
        "    if number <= 1:\n",
        "        return False\n",
        "    if number == 2:\n",
        "        return True\n",
        "    if number % 2 == 0:\n",
        "        return False\n",
        "\n",
        "    # Check divisibility from 3 up to the square root of the number\n",
        "    for i in range(3, int(number**0.5) + 1, 2):\n",
        "        if number % i == 0:\n",
        "            return False\n",
        "\n",
        "    return True\n",
        "\n",
        "# Example usage\n",
        "num = int(input(\"Enter a number to check if it's prime: \"))\n",
        "if is_prime(num):\n",
        "    print(f\"{num} is a prime number.\")\n",
        "else:\n",
        "    print(f\"{num} is not a prime number.\")\n"
      ]
    },
    {
      "cell_type": "markdown",
      "metadata": {
        "id": "xCa2bK9aD4Q3"
      },
      "source": [
        "## Question 10\n",
        "Write a Python program to concatenate following dictionaries to create a new one.\n",
        "\n",
        "Sample Dictionary : dic1={1:10, 2:20}, dic2={3:30, 4:40}, dic3={5:50,6:60},\n",
        "\n",
        "Expected Result : {1: 10, 2: 20, 3: 30, 4: 40, 5: 50, 6: 60}\n"
      ]
    },
    {
      "cell_type": "code",
      "execution_count": 30,
      "metadata": {
        "id": "_z4aLqAbEET1",
        "colab": {
          "base_uri": "https://localhost:8080/"
        },
        "outputId": "69723bd6-78fc-4b02-9024-add420800789"
      },
      "outputs": [
        {
          "output_type": "stream",
          "name": "stdout",
          "text": [
            "Concatenated dictionary: {1: 10, 2: 20, 3: 30, 4: 40, 5: 50, 6: 60}\n"
          ]
        }
      ],
      "source": [
        "# write your answer here\n",
        "# Define the sample dictionaries\n",
        "dic1 = {1: 10, 2: 20}\n",
        "dic2 = {3: 30, 4: 40}\n",
        "dic3 = {5: 50, 6: 60}\n",
        "\n",
        "# Concatenate the dictionaries using the update method\n",
        "concatenated_dict = {}\n",
        "concatenated_dict.update(dic1)\n",
        "concatenated_dict.update(dic2)\n",
        "concatenated_dict.update(dic3)\n",
        "\n",
        "# Display the concatenated dictionary\n",
        "print(\"Concatenated dictionary:\", concatenated_dict)\n",
        "\n"
      ]
    },
    {
      "cell_type": "markdown",
      "source": [
        "## Question 11\n",
        "Design a Python function that takes a tuple of integers as input and returns the largest and smallest elements."
      ],
      "metadata": {
        "id": "bkyZ2xSZUOst"
      }
    },
    {
      "cell_type": "code",
      "source": [
        "# write your answer here\n",
        "def find_largest_and_smallest(numbers):\n",
        "    # Check if the input tuple is empty\n",
        "    if not numbers:\n",
        "        return None, None\n",
        "\n",
        "    # Initialize largest and smallest variables\n",
        "    largest = numbers[0]\n",
        "    smallest = numbers[0]\n",
        "\n",
        "    # Iterate through the tuple to find the largest and smallest elements\n",
        "    for num in numbers:\n",
        "        if num > largest:\n",
        "            largest = num\n",
        "        if num < smallest:\n",
        "            smallest = num\n",
        "\n",
        "    return largest, smallest\n",
        "\n",
        "# Example usage\n",
        "numbers_tuple = (5, 1, 9, 3, 7, 6)\n",
        "largest, smallest = find_largest_and_smallest(numbers_tuple)\n",
        "print(f\"Largest element: {largest}\")\n",
        "print(f\"Smallest element: {smallest}\")\n"
      ],
      "metadata": {
        "id": "3FdLRBKOUQEd",
        "colab": {
          "base_uri": "https://localhost:8080/"
        },
        "outputId": "defbafec-14ff-4504-b799-69f23f95e237"
      },
      "execution_count": 31,
      "outputs": [
        {
          "output_type": "stream",
          "name": "stdout",
          "text": [
            "Largest element: 9\n",
            "Smallest element: 1\n"
          ]
        }
      ]
    },
    {
      "cell_type": "markdown",
      "source": [
        "## Question 12\n",
        "Write a Python program that counts the frequency of each character in a given string and stores it in a dictionary."
      ],
      "metadata": {
        "id": "O0TVi3gKUTpp"
      }
    },
    {
      "cell_type": "code",
      "source": [
        "# write your answer here\n",
        "def count_character_frequency(input_string):\n",
        "    # Initialize an empty dictionary to store character frequencies\n",
        "    frequency_dict = {}\n",
        "\n",
        "    # Iterate through each character in the string\n",
        "    for char in input_string:\n",
        "        # If the character is already in the dictionary, increment its count\n",
        "        if char in frequency_dict:\n",
        "            frequency_dict[char] += 1\n",
        "        # If the character is not in the dictionary, add it with a count of 1\n",
        "        else:\n",
        "            frequency_dict[char] = 1\n",
        "\n",
        "    return frequency_dict\n",
        "\n",
        "# Example usage\n",
        "user_string = input(\"Enter a string: \")\n",
        "char_frequency = count_character_frequency(user_string)\n",
        "print(\"Character frequency:\", char_frequency)\n"
      ],
      "metadata": {
        "id": "lAtfSfZXUU-h",
        "colab": {
          "base_uri": "https://localhost:8080/"
        },
        "outputId": "cc71c9bc-e855-4056-bbe1-9031d9a647f8"
      },
      "execution_count": 32,
      "outputs": [
        {
          "output_type": "stream",
          "name": "stdout",
          "text": [
            "Enter a string: aiswarya\n",
            "Character frequency: {'a': 3, 'i': 1, 's': 1, 'w': 1, 'r': 1, 'y': 1}\n"
          ]
        }
      ]
    },
    {
      "cell_type": "markdown",
      "metadata": {
        "id": "0v48Vqa7FrQh"
      },
      "source": [
        "## Question 13\n",
        "Implement a Python script to identify duplicate elements in a provided array of integers. Return -1 if there are no duplicates."
      ]
    },
    {
      "cell_type": "code",
      "execution_count": 33,
      "metadata": {
        "id": "7WEmgq-DF2P1",
        "colab": {
          "base_uri": "https://localhost:8080/"
        },
        "outputId": "70a45fec-13a4-4224-c91d-758d82f07724"
      },
      "outputs": [
        {
          "output_type": "stream",
          "name": "stdout",
          "text": [
            "Enter a list of integers, separated by spaces: 1 2 3 4 5 6 1 2 3 4\n",
            "Duplicates: [1, 2, 3, 4]\n"
          ]
        }
      ],
      "source": [
        "# write your answer here\n",
        "def find_duplicates(arr):\n",
        "    # Initialize a dictionary to store the count of each element\n",
        "    element_count = {}\n",
        "\n",
        "    # List to store duplicate elements\n",
        "    duplicates = []\n",
        "\n",
        "    # Count occurrences of each element in the array\n",
        "    for num in arr:\n",
        "        if num in element_count:\n",
        "            element_count[num] += 1\n",
        "        else:\n",
        "            element_count[num] = 1\n",
        "\n",
        "    # Find duplicates\n",
        "    for num, count in element_count.items():\n",
        "        if count > 1:\n",
        "            duplicates.append(num)\n",
        "\n",
        "    # Return -1 if there are no duplicates, otherwise return the list of duplicates\n",
        "    return duplicates if duplicates else -1\n",
        "\n",
        "# Example usage\n",
        "array_of_integers = list(map(int, input(\"Enter a list of integers, separated by spaces: \").split()))\n",
        "result = find_duplicates(array_of_integers)\n",
        "print(\"Duplicates:\", result)\n",
        "\n"
      ]
    },
    {
      "cell_type": "markdown",
      "metadata": {
        "id": "vD5PYLMuGga_"
      },
      "source": [
        "## Question 14\n",
        "Write a Python script to find the common elements between two lists."
      ]
    },
    {
      "cell_type": "code",
      "execution_count": 34,
      "metadata": {
        "id": "t0D5kdJUGjjw",
        "colab": {
          "base_uri": "https://localhost:8080/"
        },
        "outputId": "765d833c-8b74-4f4e-fad2-1456aebc9d84"
      },
      "outputs": [
        {
          "output_type": "stream",
          "name": "stdout",
          "text": [
            "Enter the elements of the first list, separated by spaces: 1 2 3 4 5 \n",
            "Enter the elements of the second list, separated by spaces: 3 4 5 6 7\n",
            "Common elements: [3, 4, 5]\n"
          ]
        }
      ],
      "source": [
        "# write your answer here\n",
        "def find_common_elements(list1, list2):\n",
        "    # Convert lists to sets to find common elements\n",
        "    set1 = set(list1)\n",
        "    set2 = set(list2)\n",
        "\n",
        "    # Find common elements using set intersection\n",
        "    common_elements = set1.intersection(set2)\n",
        "\n",
        "    # Return the common elements as a list\n",
        "    return list(common_elements)\n",
        "\n",
        "# Example usage\n",
        "list1 = list(map(int, input(\"Enter the elements of the first list, separated by spaces: \").split()))\n",
        "list2 = list(map(int, input(\"Enter the elements of the second list, separated by spaces: \").split()))\n",
        "\n",
        "common = find_common_elements(list1, list2)\n",
        "print(\"Common elements:\", common)\n",
        "\n",
        "\n"
      ]
    },
    {
      "cell_type": "markdown",
      "metadata": {
        "id": "uHkd-y5VhVWC"
      },
      "source": [
        "## Question 15\n",
        "Write a Python program to randomly divide the students in this class into maximum of eight groups for term projects, each group should have at least 4 students but no more than 6 students (including 6).\n",
        "\n",
        "Here is the students list:\n",
        "\n",
        "student_list_spring_2024=[rb0846,\n",
        "ac1964,\n",
        "hc0612,\n",
        "md0912,\n",
        "ad1198,\n",
        "md0894,\n",
        "md0825,\n",
        "vg0598,\n",
        "vg0433,\n",
        "mh1068,\n",
        "yj0173,\n",
        "pk0553,\n",
        "tk0411,\n",
        "srk0204,\n",
        "sk2922,\n",
        "sk2936,\n",
        "mk1302,\n",
        "mk1317,\n",
        "tk0412,\n",
        "vk0656,\n",
        "sm2985,\n",
        "mm2372,\n",
        "un0045,\n",
        "an0892,\n",
        "sn0913,\n",
        "gp0252,\n",
        "ap1484,\n",
        "mr1765,\n",
        "sr1385,\n",
        "sr1335,\n",
        "hs0665,\n",
        "ms2060,\n",
        "gt0217,\n",
        "nt0385,\n",
        "tv0186,\n",
        "sv1394,\n",
        "sv1752,\n",
        "sv1555,\n",
        "sy0594\n",
        "]\n"
      ]
    },
    {
      "cell_type": "code",
      "execution_count": 35,
      "metadata": {
        "id": "3iGbmcOBhTwy",
        "colab": {
          "base_uri": "https://localhost:8080/"
        },
        "outputId": "d21de147-af7a-4927-ad3f-287b11a6baa2"
      },
      "outputs": [
        {
          "output_type": "stream",
          "name": "stdout",
          "text": [
            "Group 1: ['nt0385', 'mk1302', 'sv1555', 'srk0204', 'hc0612', 'vg0598']\n",
            "Group 2: ['vg0433', 'tk0411', 'gp0252', 'ap1484', 'sr1335']\n",
            "Group 3: ['sm2985', 'sr1385', 'hs0665', 'vk0656']\n",
            "Group 4: ['ac1964', 'mh1068', 'mr1765', 'sk2922', 'rb0846', 'un0045']\n",
            "Group 5: ['md0825', 'mk1317', 'sv1394', 'an0892']\n",
            "Group 6: ['yj0173', 'pk0553', 'sn0913', 'sy0594', 'tv0186', 'md0894']\n",
            "Group 7: ['md0912', 'gt0217', 'ms2060', 'tk0412']\n",
            "Group 8: ['sk2936', 'sv1752', 'mm2372', 'ad1198']\n"
          ]
        }
      ],
      "source": [
        "# write your answer here\n",
        "import random\n",
        "\n",
        "def divide_students_into_groups(student_list, min_group_size=4, max_group_size=6, max_groups=8):\n",
        "    # Shuffle the student list to ensure randomness\n",
        "    random.shuffle(student_list)\n",
        "\n",
        "    # Initialize the list to hold groups\n",
        "    groups = []\n",
        "\n",
        "    # Create groups while there are students left to assign\n",
        "    while len(student_list) > 0:\n",
        "        # Determine the number of students to be in the next group\n",
        "        group_size = random.randint(min_group_size, max_group_size)\n",
        "\n",
        "        # Ensure the remaining number of students is enough for the minimum group size\n",
        "        if len(student_list) - group_size < min_group_size and len(student_list) > min_group_size:\n",
        "            group_size = len(student_list)\n",
        "\n",
        "        # Create the group and add it to the list of groups\n",
        "        group = student_list[:group_size]\n",
        "        groups.append(group)\n",
        "\n",
        "        # Remove the assigned students from the list\n",
        "        student_list = student_list[group_size:]\n",
        "\n",
        "        # Break if the number of groups reaches the maximum allowed\n",
        "        if len(groups) == max_groups:\n",
        "            break\n",
        "\n",
        "    # Return the list of groups\n",
        "    return groups\n",
        "\n",
        "# List of students\n",
        "student_list_spring_2024 = [\n",
        "    \"rb0846\", \"ac1964\", \"hc0612\", \"md0912\", \"ad1198\", \"md0894\", \"md0825\", \"vg0598\", \"vg0433\", \"mh1068\",\n",
        "    \"yj0173\", \"pk0553\", \"tk0411\", \"srk0204\", \"sk2922\", \"sk2936\", \"mk1302\", \"mk1317\", \"tk0412\", \"vk0656\",\n",
        "    \"sm2985\", \"mm2372\", \"un0045\", \"an0892\", \"sn0913\", \"gp0252\", \"ap1484\", \"mr1765\", \"sr1385\", \"sr1335\",\n",
        "    \"hs0665\", \"ms2060\", \"gt0217\", \"nt0385\", \"tv0186\", \"sv1394\", \"sv1752\", \"sv1555\", \"sy0594\"\n",
        "]\n",
        "\n",
        "# Divide students into groups\n",
        "groups = divide_students_into_groups(student_list_spring_2024)\n",
        "\n",
        "# Print the groups\n",
        "for i, group in enumerate(groups, 1):\n",
        "    print(f\"Group {i}: {group}\")\n"
      ]
    },
    {
      "cell_type": "markdown",
      "metadata": {
        "id": "fmZ9vX20Qs3d"
      },
      "source": [
        "## Question 16\n",
        "Create a program that takes a positive integer 'n' as input and prints the count of even numbers from 1 to 'n'. Optimize the loop using the continue statement."
      ]
    },
    {
      "cell_type": "code",
      "execution_count": 46,
      "metadata": {
        "id": "W8Jw6sWMQs3d",
        "colab": {
          "base_uri": "https://localhost:8080/"
        },
        "outputId": "4dc894ab-2246-4eba-9579-a94833929015"
      },
      "outputs": [
        {
          "output_type": "stream",
          "name": "stdout",
          "text": [
            "Enter a positive integer: 20\n",
            "Count of even numbers from 1 to 20 is: 10\n"
          ]
        }
      ],
      "source": [
        "# write your answer here\n",
        "def count_even_numbers(n):\n",
        "    # Initialize count for even numbers\n",
        "    count = 0\n",
        "\n",
        "    # Iterate through numbers from 1 to n\n",
        "    for num in range(1, n + 1):\n",
        "        # Skip the loop iteration if the number is odd\n",
        "        if num % 2 != 0:\n",
        "            continue\n",
        "\n",
        "        # Increment the count for even numbers\n",
        "        count += 1\n",
        "\n",
        "    return count\n",
        "\n",
        "# Get user input\n",
        "try:\n",
        "    n = int(input(\"Enter a positive integer: \"))\n",
        "    if n <= 0:\n",
        "        raise ValueError(\"The number must be positive.\")\n",
        "\n",
        "    # Get the count of even numbers and print it\n",
        "    even_count = count_even_numbers(n)\n",
        "    print(f\"Count of even numbers from 1 to {n} is: {even_count}\")\n",
        "\n",
        "except ValueError as e:\n",
        "    print(f\"Invalid input: {e}\")\n",
        "\n"
      ]
    },
    {
      "cell_type": "markdown",
      "metadata": {
        "id": "hvq4APMhQs3d"
      },
      "source": [
        "## Question 17\n",
        "Develop a Python function called 'count_vowels' that takes a string as input and returns the count of vowels (both lowercase and uppercase) present in the string, ignoring spaces and non-alphabetic characters."
      ]
    },
    {
      "cell_type": "code",
      "execution_count": 37,
      "metadata": {
        "id": "ZnoxhSglQs3d",
        "colab": {
          "base_uri": "https://localhost:8080/"
        },
        "outputId": "229649ec-49e7-47e3-89a5-7255f63c0ec6"
      },
      "outputs": [
        {
          "output_type": "stream",
          "name": "stdout",
          "text": [
            "Enter a string: aiswarya\n",
            "Count of vowels in the string is: 4\n"
          ]
        }
      ],
      "source": [
        "# write your answer here\n",
        "def count_vowels(s):\n",
        "    # Define a set of vowels (both lowercase and uppercase)\n",
        "    vowels = set('aeiouAEIOU')\n",
        "\n",
        "    # Initialize count for vowels\n",
        "    count = 0\n",
        "\n",
        "    # Iterate through each character in the string\n",
        "    for char in s:\n",
        "        # Check if the character is a vowel\n",
        "        if char in vowels:\n",
        "            count += 1\n",
        "\n",
        "    return count\n",
        "\n",
        "# Example usage\n",
        "input_string = input(\"Enter a string: \")\n",
        "vowel_count = count_vowels(input_string)\n",
        "print(f\"Count of vowels in the string is: {vowel_count}\")\n",
        "\n"
      ]
    },
    {
      "cell_type": "markdown",
      "source": [
        "## Question 18\n",
        "Create a custom exception named ValueTooSmallError in Python. Write a program that takes user input for an age, and if the entered age is less than 18, raise the ValueTooSmallError with an appropriate error message."
      ],
      "metadata": {
        "id": "55FWoSJPVVM6"
      }
    },
    {
      "cell_type": "code",
      "source": [
        "# write your answer here\n",
        "# Define the custom exception\n",
        "class ValueTooSmallError(Exception):\n",
        "    def __init__(self, message=\"Age must be at least 18.\"):\n",
        "        self.message = message\n",
        "        super().__init__(self.message)\n",
        "\n",
        "# Function to check age and raise custom exception if needed\n",
        "def check_age(age):\n",
        "    if age < 18:\n",
        "        raise ValueTooSmallError\n",
        "\n",
        "# Main program\n",
        "try:\n",
        "    # Take user input for age\n",
        "    age = int(input(\"Enter your age: \"))\n",
        "\n",
        "    # Check the age and possibly raise an exception\n",
        "    check_age(age)\n",
        "\n",
        "    print(\"Age is acceptable.\")\n",
        "\n",
        "except ValueTooSmallError as e:\n",
        "    print(f\"Error: {e}\")\n",
        "\n",
        "except ValueError:\n",
        "    print(\"Invalid input. Please enter a numeric value.\")\n",
        "\n"
      ],
      "metadata": {
        "id": "hwtr1wZmVX5A",
        "colab": {
          "base_uri": "https://localhost:8080/"
        },
        "outputId": "de76303c-468e-4590-b731-fa4312b779a6"
      },
      "execution_count": 45,
      "outputs": [
        {
          "output_type": "stream",
          "name": "stdout",
          "text": [
            "Enter your age: 17\n",
            "Error: Age must be at least 18.\n"
          ]
        }
      ]
    },
    {
      "cell_type": "markdown",
      "source": [
        "## Question 19\n",
        "Develop a script that reverses a given string without using built-in reverse functions."
      ],
      "metadata": {
        "id": "Q9ecagcaVazW"
      }
    },
    {
      "cell_type": "code",
      "source": [
        "# write your answer here\n",
        "def reverse_string(s):\n",
        "    # Initialize an empty string for the reversed result\n",
        "    reversed_str = \"\"\n",
        "\n",
        "    # Iterate over the string in reverse order using a for loop\n",
        "    for char in s:\n",
        "        # Prepend each character to the reversed string\n",
        "        reversed_str = char + reversed_str\n",
        "\n",
        "    return reversed_str\n",
        "\n",
        "# Example usage\n",
        "input_string = input(\"Enter a string to reverse: \")\n",
        "reversed_string = reverse_string(input_string)\n",
        "print(\"Reversed string:\", reversed_string)\n",
        "\n"
      ],
      "metadata": {
        "id": "gycgckoAVZjR",
        "colab": {
          "base_uri": "https://localhost:8080/"
        },
        "outputId": "00e355d2-61d7-439d-9c78-39bf51656ba4"
      },
      "execution_count": 39,
      "outputs": [
        {
          "output_type": "stream",
          "name": "stdout",
          "text": [
            "Enter a string to reverse: aiswarya\n",
            "Reversed string: ayrawsia\n"
          ]
        }
      ]
    },
    {
      "cell_type": "markdown",
      "source": [
        "## Question 20\n",
        "Implement a Python script to generate a random password of a specified length."
      ],
      "metadata": {
        "id": "ZFG6RibifMLu"
      }
    },
    {
      "cell_type": "code",
      "source": [
        "# write your answer here\n",
        "import random\n",
        "import string\n",
        "\n",
        "def generate_password(length):\n",
        "    if length < 8:\n",
        "        raise ValueError(\"Password length should be at least 8 characters.\")\n",
        "\n",
        "    # Define the character sets for the password\n",
        "    lower_chars = string.ascii_lowercase\n",
        "    upper_chars = string.ascii_uppercase\n",
        "    digits = string.digits\n",
        "    special_chars = string.punctuation\n",
        "\n",
        "    # Combine all character sets\n",
        "    all_chars = lower_chars + upper_chars + digits + special_chars\n",
        "\n",
        "    # Generate the password using random.choice\n",
        "    password = ''.join(random.choice(all_chars) for _ in range(length))\n",
        "\n",
        "    return password\n",
        "\n",
        "# Example usage\n",
        "try:\n",
        "    length = int(input(\"Enter the desired password length (minimum 8 characters): \"))\n",
        "    password = generate_password(length)\n",
        "    print(\"Generated password:\", password)\n",
        "except ValueError as e:\n",
        "    print(f\"Error: {e}\")\n"
      ],
      "metadata": {
        "id": "BFVrkEi9fNiD",
        "colab": {
          "base_uri": "https://localhost:8080/"
        },
        "outputId": "a91e2390-ab02-4937-a055-e34c4e0e1d45"
      },
      "execution_count": 40,
      "outputs": [
        {
          "output_type": "stream",
          "name": "stdout",
          "text": [
            "Enter the desired password length (minimum 8 characters): 9\n",
            "Generated password: cDi^tcY4w\n"
          ]
        }
      ]
    },
    {
      "cell_type": "markdown",
      "source": [
        "# Try these questions"
      ],
      "metadata": {
        "id": "6SmvS7nSfbj8"
      }
    },
    {
      "cell_type": "markdown",
      "source": [
        "(21) Define a base class called 'Vehicle' with attributes make and model. Create a derived class Car that inherits from Vehicle and has an additional attribute 'num_doors'. Demonstrate an example of creating an instance of the 'Car' class and accessing its attributes."
      ],
      "metadata": {
        "id": "cboAr5pEWUf5"
      }
    },
    {
      "cell_type": "code",
      "source": [
        "# write your answer here\n",
        "# Define the base class Vehicle\n",
        "class Vehicle:\n",
        "    def __init__(self, make, model):\n",
        "        self.make = make\n",
        "        self.model = model\n",
        "\n",
        "    def display_info(self):\n",
        "        return f\"Make: {self.make}, Model: {self.model}\"\n",
        "\n",
        "# Define the derived class Car\n",
        "class Car(Vehicle):\n",
        "    def __init__(self, make, model, num_doors):\n",
        "        # Initialize the base class\n",
        "        super().__init__(make, model)\n",
        "        # Initialize the additional attribute for Car\n",
        "        self.num_doors = num_doors\n",
        "\n",
        "    def display_info(self):\n",
        "        # Override the display_info method to include num_doors\n",
        "        base_info = super().display_info()\n",
        "        return f\"{base_info}, Number of Doors: {self.num_doors}\"\n",
        "\n",
        "# Example usage\n",
        "# Create an instance of Car\n",
        "my_car = Car(make=\"Toyota\", model=\"Camry\", num_doors=4)\n",
        "\n",
        "# Access and display the attributes of the Car instance\n",
        "print(\"Car Information:\")\n",
        "print(my_car.display_info())\n"
      ],
      "metadata": {
        "id": "phs9gciMWWAW",
        "colab": {
          "base_uri": "https://localhost:8080/"
        },
        "outputId": "0cda7d9e-aeab-4d47-9b43-b1f59bcc3f42"
      },
      "execution_count": 41,
      "outputs": [
        {
          "output_type": "stream",
          "name": "stdout",
          "text": [
            "Car Information:\n",
            "Make: Toyota, Model: Camry, Number of Doors: 4\n"
          ]
        }
      ]
    },
    {
      "cell_type": "markdown",
      "source": [
        "(22) Create a class called 'Shape' with a method calculate_area(). Implement two derived classes 'Circle' and 'Rectangle' that inherit from Shape and override the calculate_area() method. Demonstrate polymorphism by creating instances of both derived classes and calling the calculate_area() method."
      ],
      "metadata": {
        "id": "J8HHefNtePwd"
      }
    },
    {
      "cell_type": "code",
      "source": [
        "# write your answer here\n",
        "import math\n",
        "\n",
        "# Define the base class Shape\n",
        "class Shape:\n",
        "    def calculate_area(self):\n",
        "        raise NotImplementedError(\"Subclasses must implement this method.\")\n",
        "\n",
        "# Define the derived class Circle\n",
        "class Circle(Shape):\n",
        "    def __init__(self, radius):\n",
        "        self.radius = radius\n",
        "\n",
        "    def calculate_area(self):\n",
        "        # Calculate the area of the circle\n",
        "        return math.pi * (self.radius ** 2)\n",
        "\n",
        "# Define the derived class Rectangle\n",
        "class Rectangle(Shape):\n",
        "    def __init__(self, width, height):\n",
        "        self.width = width\n",
        "        self.height = height\n",
        "\n",
        "    def calculate_area(self):\n",
        "        # Calculate the area of the rectangle\n",
        "        return self.width * self.height\n",
        "\n",
        "# Example usage\n",
        "# Create instances of Circle and Rectangle\n",
        "circle = Circle(radius=5)\n",
        "rectangle = Rectangle(width=4, height=6)\n",
        "\n",
        "# Calculate and display areas\n",
        "print(\"Circle Area:\", circle.calculate_area())\n",
        "print(\"Rectangle Area:\", rectangle.calculate_area())\n"
      ],
      "metadata": {
        "id": "btnMmUZDeRhS",
        "colab": {
          "base_uri": "https://localhost:8080/"
        },
        "outputId": "8e13be93-91ab-433e-af28-1a158648328e"
      },
      "execution_count": 42,
      "outputs": [
        {
          "output_type": "stream",
          "name": "stdout",
          "text": [
            "Circle Area: 78.53981633974483\n",
            "Rectangle Area: 24\n"
          ]
        }
      ]
    },
    {
      "cell_type": "markdown",
      "source": [
        "(23) Write a Python program that prompts the user to enter two numbers and perform a division operation. Handle exceptions for both zero division and invalid input (non-numeric input). Display appropriate error messages for each type of exception and ensure the program does not crash due to these errors."
      ],
      "metadata": {
        "id": "z0oqEAlTeMUS"
      }
    },
    {
      "cell_type": "code",
      "source": [
        "def divide_numbers(num1, num2):\n",
        "    try:\n",
        "        # Convert inputs to float for division\n",
        "        num1 = float(num1)\n",
        "        num2 = float(num2)\n",
        "\n",
        "        # Perform division\n",
        "        result = num1 / num2\n",
        "        return result\n",
        "\n",
        "    except ZeroDivisionError:\n",
        "        return \"Error: Division by zero is not allowed.\"\n",
        "    except ValueError:\n",
        "        return \"Error: Invalid input. Please enter numeric values.\"\n",
        "\n",
        "# Main program\n",
        "def main():\n",
        "    try:\n",
        "        # Prompt user for two numbers\n",
        "        num1 = input(\"Enter the first number: \")\n",
        "        num2 = input(\"Enter the second number: \")\n",
        "\n",
        "        # Attempt to divide the numbers\n",
        "        result = divide_numbers(num1, num2)\n",
        "\n",
        "        # Print the result or error message\n",
        "        print(result)\n",
        "\n",
        "    except Exception as e:\n",
        "        # Catch any unexpected exceptions\n",
        "        print(f\"An unexpected error occurred: {e}\")\n",
        "\n",
        "if __name__ == \"__main__\":\n",
        "    main()\n"
      ],
      "metadata": {
        "id": "yjdc1zM1eMAs",
        "colab": {
          "base_uri": "https://localhost:8080/"
        },
        "outputId": "1ce95d0f-1909-439b-dda9-6d0eda3d0b48"
      },
      "execution_count": 43,
      "outputs": [
        {
          "output_type": "stream",
          "name": "stdout",
          "text": [
            "Enter the first number: 10\n",
            "Enter the second number: 0\n",
            "Error: Division by zero is not allowed.\n"
          ]
        }
      ]
    },
    {
      "cell_type": "markdown",
      "source": [
        "# Mandatory Question"
      ],
      "metadata": {
        "id": "sZOhks1dXWEe"
      }
    },
    {
      "cell_type": "markdown",
      "source": [
        "**Important:**\n",
        "Reflecting on the first three lectures and the exercises you've completed, please provide feedback on your learning experience. Share your thoughts on whether the material covered was clear, the exercises were helpful, and if you feel more confident in applying Python programming concepts. Additionally, mention any specific areas where you would like more clarification or topics you would like to explore further in future lectures. Your feedback is valuable in shaping the course for an effective learning journey."
      ],
      "metadata": {
        "id": "eqmHVEwaWhbV"
      }
    },
    {
      "cell_type": "code",
      "source": [
        "'''\n",
        "Write your response here.\n",
        "\n",
        "\n",
        "The initial lectures offered clear insights into Python fundamentals, and the exercises were practical and instrumental in reinforcing these concepts. I now feel more confident in applying Python, especially regarding exception handling, string manipulation, and basic algorithms. For future sessions, I’d like to see a greater emphasis on advanced error handling, object-oriented programming principles, and Python data structures and algorithms. Additionally, exploring file handling, libraries, and introductory web development would be valuable. Overall, the course has been very informative, and I’m eager to deepen my understanding in these areas to further enhance my skills.\n",
        "\n",
        "'''\n",
        "\n",
        "\n"
      ],
      "metadata": {
        "id": "akAVJn9YBTQT",
        "colab": {
          "base_uri": "https://localhost:8080/",
          "height": 104
        },
        "outputId": "14209997-3061-4efc-e415-ffc1e137c798"
      },
      "execution_count": 49,
      "outputs": [
        {
          "output_type": "execute_result",
          "data": {
            "text/plain": [
              "'\\nWrite your response here.\\n\\n\\nThe initial lectures offered clear insights into Python fundamentals, and the exercises were practical and instrumental in reinforcing these concepts. I now feel more confident in applying Python, especially regarding exception handling, string manipulation, and basic algorithms. For future sessions, I’d like to see a greater emphasis on advanced error handling, object-oriented programming principles, and Python data structures and algorithms. Additionally, exploring file handling, libraries, and introductory web development would be valuable. Overall, the course has been very informative, and I’m eager to deepen my understanding in these areas to further enhance my skills.\\n\\n'"
            ],
            "application/vnd.google.colaboratory.intrinsic+json": {
              "type": "string"
            }
          },
          "metadata": {},
          "execution_count": 49
        }
      ]
    },
    {
      "cell_type": "code",
      "source": [],
      "metadata": {
        "id": "HNW27i4gUIqI"
      },
      "execution_count": null,
      "outputs": []
    }
  ],
  "metadata": {
    "colab": {
      "provenance": [],
      "collapsed_sections": [
        "FBKvD6O_TY6e",
        "E9RqrlwdTfvl",
        "03jb4GZsBkBS",
        "jJDe71iLB616",
        "55W9AMdXCSpV",
        "4ulBZ6yhCi9F",
        "6SmvS7nSfbj8",
        "sZOhks1dXWEe"
      ],
      "include_colab_link": true
    },
    "kernelspec": {
      "display_name": "Python 3 (ipykernel)",
      "language": "python",
      "name": "python3"
    },
    "language_info": {
      "codemirror_mode": {
        "name": "ipython",
        "version": 3
      },
      "file_extension": ".py",
      "mimetype": "text/x-python",
      "name": "python",
      "nbconvert_exporter": "python",
      "pygments_lexer": "ipython3",
      "version": "3.9.12"
    }
  },
  "nbformat": 4,
  "nbformat_minor": 0
}