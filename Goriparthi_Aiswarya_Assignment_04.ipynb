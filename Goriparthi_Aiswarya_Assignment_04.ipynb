{
  "cells": [
    {
      "cell_type": "markdown",
      "metadata": {
        "id": "view-in-github",
        "colab_type": "text"
      },
      "source": [
        "<a href=\"https://colab.research.google.com/github/AiswaryaGoriparthi/Aiswarya_INFO5731_Fall2024/blob/main/Goriparthi_Aiswarya_Assignment_04.ipynb\" target=\"_parent\"><img src=\"https://colab.research.google.com/assets/colab-badge.svg\" alt=\"Open In Colab\"/></a>"
      ]
    },
    {
      "cell_type": "markdown",
      "metadata": {
        "id": "USSdXHuqnwv9"
      },
      "source": [
        "# **INFO5731 Assignment Four**\n",
        "\n",
        "In this assignment, you are required to conduct topic modeling, sentiment analysis based on **the dataset you created from assignment three**."
      ]
    },
    {
      "cell_type": "markdown",
      "metadata": {
        "id": "YWxodXh5n4xF"
      },
      "source": [
        "# **Question 1: Topic Modeling**"
      ]
    },
    {
      "cell_type": "markdown",
      "metadata": {
        "id": "TenBkDJ5n95k"
      },
      "source": [
        "(30 points). This question is designed to help you develop a feel for the way topic modeling works, the connection to the human meanings of documents. Based on the dataset from assignment three, write a python program to **identify the top 10 topics in the dataset**. Before answering this question, please review the materials in lesson 8, especially the code for LDA, LSA, and BERTopic. The following information should be reported:\n",
        "\n",
        "1. Features (text representation) used for topic modeling.\n",
        "\n",
        "2. Top 10 clusters for topic modeling.\n",
        "\n",
        "3. Summarize and describe the topic for each cluster.\n"
      ]
    },
    {
      "cell_type": "code",
      "source": [
        "# Write your code here\n",
        "# Import necessary libraries\n",
        "import pandas as pd\n",
        "from gensim.parsing.preprocessing import (\n",
        "    remove_stopwords, strip_punctuation, preprocess_string, strip_short, stem_text\n",
        ")\n",
        "from gensim import corpora\n",
        "from gensim.models import LsiModel, LdaMulticore, TfidfModel\n",
        "\n",
        "# Load the dataset and drop missing values\n",
        "file_path = '/content/sentiment_analysis_data.csv'\n",
        "data = pd.read_csv(file_path)\n",
        "text_data = data['clean_text'].dropna()\n",
        "\n",
        "# Preprocess the text data\n",
        "def preprocess(text):\n",
        "    custom_filters = [lambda x: x.lower(), remove_stopwords, strip_punctuation, strip_short]\n",
        "    return preprocess_string(text, custom_filters)\n",
        "\n",
        "data['Cleaned_Text'] = data['clean_text'].apply(preprocess)\n",
        "\n",
        "# Create a dictionary and a bag-of-words representation\n",
        "corpus = data['Cleaned_Text']\n",
        "dictionary = corpora.Dictionary(corpus)\n",
        "\n",
        "# Filter extremes to remove overly common and rare tokens\n",
        "dictionary.filter_extremes(no_below=5, no_above=0.5)\n",
        "\n",
        "# Convert documents to bag-of-words format\n",
        "bow = [dictionary.doc2bow(text) for text in corpus]\n",
        "\n",
        "# Apply TF-IDF transformation\n",
        "tfidf = TfidfModel(bow)\n",
        "tfidf_corpus = tfidf[bow]\n",
        "\n",
        "# Apply Latent Semantic Analysis (LSA) for topic modeling\n",
        "lsa_model = LsiModel(tfidf_corpus, num_topics=10, id2word=dictionary)\n",
        "lsa_topics = [lsa_model.print_topic(i, topn=10) for i in range(10)]\n",
        "\n",
        "# Apply Latent Dirichlet Allocation (LDA) for topic modeling\n",
        "lda_model = LdaMulticore(corpus=bow, id2word=dictionary, num_topics=10, passes=10, workers=2)\n",
        "lda_topics = lda_model.print_topics(num_words=10)\n",
        "\n",
        "# Display the topics identified by LSA\n",
        "print(\"Top 10 Topics Identified by LSA:\")\n",
        "for idx, topic in enumerate(lsa_topics):\n",
        "    print(f\"Topic {idx + 1}: {topic}\")\n",
        "\n",
        "# Display the topics identified by LDA\n",
        "print(\"\\nTop 10 Topics Identified by LDA:\")\n",
        "for idx, topic in lda_topics:\n",
        "    print(f\"Topic {idx + 1}: {topic}\")\n"
      ],
      "metadata": {
        "colab": {
          "base_uri": "https://localhost:8080/"
        },
        "id": "tD0DoQAuWNiq",
        "outputId": "ba8e3f93-063b-4a70-9132-4ac8aa370cdb"
      },
      "execution_count": 20,
      "outputs": [
        {
          "output_type": "stream",
          "name": "stdout",
          "text": [
            "Top 10 Topics Identified by LSA:\n",
            "Topic 1: -0.122*\"matrix\" + -0.117*\"like\" + -0.114*\"great\" + -0.113*\"best\" + -0.111*\"time\" + -0.098*\"shawshank\" + -0.098*\"action\" + -0.095*\"watch\" + -0.090*\"story\" + -0.089*\"think\"\n",
            "Topic 2: 0.780*\"tonight\" + 0.330*\"round\" + 0.295*\"they\" + 0.270*\"tell\" + 0.233*\"let\" + 0.152*\"story\" + 0.112*\"telling\" + 0.057*\"glass\" + 0.044*\"children\" + 0.041*\"raise\"\n",
            "Topic 3: 0.683*\"glass\" + 0.562*\"raise\" + 0.412*\"freedom\" + -0.072*\"tonight\" + -0.044*\"batman\" + 0.042*\"shawshank\" + -0.038*\"they\" + -0.038*\"joker\" + -0.038*\"knight\" + 0.038*\"hope\"\n",
            "Topic 4: -0.314*\"schindler\" + 0.280*\"batman\" + 0.250*\"knight\" + 0.248*\"joker\" + 0.236*\"ledger\" + 0.234*\"heath\" + 0.222*\"dark\" + -0.194*\"list\" + -0.180*\"spielberg\" + -0.170*\"holocaust\"\n",
            "Topic 5: 0.615*\"arjun\" + 0.535*\"allu\" + -0.169*\"batman\" + -0.152*\"joker\" + -0.152*\"knight\" + -0.141*\"ledger\" + -0.139*\"heath\" + -0.138*\"dark\" + -0.102*\"schindler\" + 0.086*\"mass\"\n",
            "Topic 6: -0.273*\"arjun\" + 0.262*\"lecter\" + -0.238*\"allu\" + 0.228*\"clarice\" + -0.202*\"schindler\" + 0.182*\"foster\" + 0.165*\"hopkins\" + -0.162*\"batman\" + -0.151*\"joker\" + 0.147*\"killer\"\n",
            "Topic 7: -0.318*\"matrix\" + 0.255*\"schindler\" + 0.216*\"lecter\" + 0.188*\"clarice\" + -0.183*\"samurai\" + 0.164*\"arjun\" + 0.142*\"allu\" + 0.141*\"list\" + 0.137*\"spielberg\" + 0.135*\"holocaust\"\n",
            "Topic 8: -0.335*\"matrix\" + 0.334*\"shawshank\" + 0.190*\"andy\" + -0.186*\"schindler\" + 0.170*\"prison\" + 0.165*\"hope\" + 0.140*\"king\" + 0.132*\"freeman\" + 0.124*\"redemption\" + -0.123*\"neo\"\n",
            "Topic 9: 0.424*\"leon\" + -0.274*\"samurai\" + 0.253*\"mathilda\" + 0.248*\"besson\" + 0.208*\"reno\" + 0.195*\"oldman\" + 0.187*\"portman\" + -0.177*\"seven\" + 0.160*\"jean\" + -0.138*\"kurosawa\"\n",
            "Topic 10: -0.557*\"samurai\" + -0.336*\"seven\" + -0.288*\"kurosawa\" + 0.239*\"matrix\" + -0.151*\"leon\" + 0.134*\"shawshank\" + -0.096*\"village\" + 0.089*\"neo\" + -0.089*\"mathilda\" + -0.087*\"besson\"\n",
            "\n",
            "Top 10 Topics Identified by LDA:\n",
            "Topic 1: 0.014*\"schindler\" + 0.013*\"like\" + 0.009*\"story\" + 0.009*\"spielberg\" + 0.008*\"list\" + 0.007*\"arjun\" + 0.007*\"song\" + 0.007*\"watch\" + 0.007*\"allu\" + 0.006*\"time\"\n",
            "Topic 2: 0.022*\"samurai\" + 0.015*\"seven\" + 0.010*\"kurosawa\" + 0.009*\"time\" + 0.007*\"like\" + 0.007*\"action\" + 0.006*\"matrix\" + 0.005*\"scene\" + 0.005*\"way\" + 0.005*\"cinema\"\n",
            "Topic 3: 0.016*\"shawshank\" + 0.011*\"time\" + 0.011*\"best\" + 0.010*\"great\" + 0.010*\"like\" + 0.008*\"king\" + 0.007*\"hope\" + 0.007*\"prison\" + 0.007*\"scene\" + 0.006*\"life\"\n",
            "Topic 4: 0.012*\"clarice\" + 0.009*\"foster\" + 0.009*\"lecter\" + 0.008*\"killer\" + 0.007*\"hannibal\" + 0.007*\"hopkins\" + 0.007*\"silence\" + 0.006*\"serial\" + 0.006*\"time\" + 0.006*\"best\"\n",
            "Topic 5: 0.012*\"best\" + 0.012*\"time\" + 0.009*\"matrix\" + 0.007*\"character\" + 0.007*\"great\" + 0.007*\"action\" + 0.006*\"love\" + 0.006*\"life\" + 0.005*\"think\" + 0.005*\"effect\"\n",
            "Topic 6: 0.017*\"batman\" + 0.011*\"dark\" + 0.011*\"joker\" + 0.009*\"knight\" + 0.008*\"best\" + 0.008*\"ledger\" + 0.008*\"time\" + 0.008*\"like\" + 0.008*\"heath\" + 0.007*\"great\"\n",
            "Topic 7: 0.010*\"leon\" + 0.007*\"like\" + 0.006*\"character\" + 0.006*\"great\" + 0.005*\"scene\" + 0.005*\"love\" + 0.005*\"mathilda\" + 0.005*\"performance\" + 0.004*\"watch\" + 0.004*\"time\"\n",
            "Topic 8: 0.007*\"great\" + 0.006*\"king\" + 0.006*\"time\" + 0.006*\"like\" + 0.006*\"life\" + 0.006*\"way\" + 0.006*\"story\" + 0.005*\"prison\" + 0.005*\"hope\" + 0.005*\"red\"\n",
            "Topic 9: 0.010*\"man\" + 0.008*\"juror\" + 0.007*\"time\" + 0.007*\"nicholson\" + 0.007*\"jack\" + 0.007*\"oscar\" + 0.006*\"best\" + 0.006*\"lecter\" + 0.005*\"fonda\" + 0.005*\"case\"\n",
            "Topic 10: 0.010*\"like\" + 0.008*\"time\" + 0.007*\"think\" + 0.007*\"watch\" + 0.007*\"great\" + 0.006*\"end\" + 0.006*\"way\" + 0.005*\"story\" + 0.005*\"thing\" + 0.004*\"know\"\n"
          ]
        }
      ]
    },
    {
      "cell_type": "markdown",
      "source": [
        "# SUMMARY"
      ],
      "metadata": {
        "id": "FQnXB3HgYQDD"
      }
    },
    {
      "cell_type": "markdown",
      "source": [
        "\n",
        "# LSA Topics:\n",
        "The topics identified through Latent Semantic Analysis (LSA) simplify the dataset by reducing its dimensions, highlighting key themes. Each topic is represented by a collection of the most significant words that contribute to its meaning.\n",
        "\n",
        "Topic 1: Popular Movies and Impact\n",
        "Focus on iconic movies like The Matrix, The Shawshank Redemption, and their cultural influence. Terms like \"great,\" \"story,\" and \"watch\" suggest general appreciation.\n",
        "\n",
        "Topic 2: Storytelling and Emotional Connection\n",
        "Discussion about impactful storytelling, emotional moments, and their significance, with terms like \"tonight,\" \"story,\" and \"children.\"\n",
        "\n",
        "Topic 3: Themes of Hope and Freedom\n",
        "Centralized around hope, freedom, and resilience, referencing The Shawshank Redemption and inspirational narratives.\n",
        "\n",
        "Topic 4: Holocaust and Schindler's List\n",
        "A deep dive into the Holocaust and Steven Spielberg's Schindler's List, with terms like \"schindler,\" \"list,\" and \"holocaust.\"\n",
        "\n",
        "Topic 5: South Indian Cinema\n",
        "Discussion of South Indian actors (Arjun and Allu Arjun) and their mass appeal, contrasting with Hollywood themes.\n",
        "\n",
        "Topic 6: Psychological Thrillers\n",
        "Focused on psychological thrillers like The Silence of the Lambs, featuring characters like Lecter and Clarice.\n",
        "\n",
        "Topic 7: Philosophical Reflections in Cinema\n",
        "Combines themes from The Matrix, Schindler's List, and Samurai movies, exploring deeper meanings.\n",
        "\n",
        "Topic 8: Hope vs. Dystopia\n",
        "Contrasts the hope in Shawshank with the dystopian narrative of The Matrix.\n",
        "\n",
        "Topic 9: Léon: The Professional\n",
        "Focuses on characters and themes from Léon, including Leon, Mathilda, and their unique bond.\n",
        "\n",
        "Topic 10: Samurai Movies and Cultural Significance\n",
        "Explores Seven Samurai and Akira Kurosawa’s impact on cinema, contrasting it with The Matrix."
      ],
      "metadata": {
        "id": "ekbjvk5NXiVO"
      }
    },
    {
      "cell_type": "markdown",
      "source": [
        "\n",
        "#LDA Topics\n",
        "Latent Dirichlet Allocation (LDA) identifies topics by assigning probabilities to words, clustering the most frequent terms to reveal key aspects of the text.\n",
        "\n",
        "Topic 1: Mental Institutions in Cinema\n",
        "Discusses One Flew Over the Cuckoo's Nest and its themes, including characters like McMurphy and Nicholson.\n",
        "\n",
        "Topic 2: Classic and South Indian Cinema\n",
        "Merges classic Hollywood movies like Seven Samurai with South Indian cinema icons (Arjun, Allu Arjun).\n",
        "\n",
        "Topic 3: Character Development and Story Depth\n",
        "Reflects on the depth of characters and storytelling in cinema, focusing on emotions and complexity.\n",
        "\n",
        "Topic 4: Hope and Redemption\n",
        "Explores themes from The Shawshank Redemption and Léon, emphasizing resilience and love.\n",
        "\n",
        "Topic 5: Epic Samurai Narratives\n",
        "Focus on Seven Samurai and Kurosawa’s influence, including themes of action and strategy.\n",
        "\n",
        "Topic 6: Historical and Inspirational Narratives\n",
        "Features Schindler's List and Spielberg’s portrayal of the Holocaust, touching on resilience and humanity.\n",
        "\n",
        "Topic 7: Superheroes and The Dark Knight\n",
        "Highlights The Dark Knight, including iconic performances by Ledger and themes of morality.\n",
        "\n",
        "Topic 8: Science Fiction and Futuristic Themes\n",
        "Discusses The Matrix and its futuristic storytelling, focusing on characters like Neo and Lecter.\n",
        "\n",
        "Topic 9: Courtroom Dramas and Justice\n",
        "Analyzes 12 Angry Men, focusing on themes of justice, morality, and decision-making.\n",
        "\n",
        "Topic 10: Classic Hollywood and Character Study\n",
        "Reviews classics with deep character analysis, including terms like \"scene\" and \"star.\""
      ],
      "metadata": {
        "id": "CEa7FpDxX_bS"
      }
    },
    {
      "cell_type": "code",
      "source": [
        "!pip install bertopic"
      ],
      "metadata": {
        "colab": {
          "base_uri": "https://localhost:8080/"
        },
        "id": "pnBamqL1VByO",
        "outputId": "e05b0ca4-ef4a-4b33-aaf7-3d5cfa380698"
      },
      "execution_count": 21,
      "outputs": [
        {
          "output_type": "stream",
          "name": "stdout",
          "text": [
            "Requirement already satisfied: bertopic in /usr/local/lib/python3.10/dist-packages (0.16.4)\n",
            "Requirement already satisfied: hdbscan>=0.8.29 in /usr/local/lib/python3.10/dist-packages (from bertopic) (0.8.40)\n",
            "Requirement already satisfied: numpy>=1.20.0 in /usr/local/lib/python3.10/dist-packages (from bertopic) (1.26.4)\n",
            "Requirement already satisfied: pandas>=1.1.5 in /usr/local/lib/python3.10/dist-packages (from bertopic) (2.2.2)\n",
            "Requirement already satisfied: plotly>=4.7.0 in /usr/local/lib/python3.10/dist-packages (from bertopic) (5.24.1)\n",
            "Requirement already satisfied: scikit-learn>=0.22.2.post1 in /usr/local/lib/python3.10/dist-packages (from bertopic) (1.5.2)\n",
            "Requirement already satisfied: sentence-transformers>=0.4.1 in /usr/local/lib/python3.10/dist-packages (from bertopic) (3.2.1)\n",
            "Requirement already satisfied: tqdm>=4.41.1 in /usr/local/lib/python3.10/dist-packages (from bertopic) (4.66.6)\n",
            "Requirement already satisfied: umap-learn>=0.5.0 in /usr/local/lib/python3.10/dist-packages (from bertopic) (0.5.7)\n",
            "Requirement already satisfied: scipy>=1.0 in /usr/local/lib/python3.10/dist-packages (from hdbscan>=0.8.29->bertopic) (1.13.1)\n",
            "Requirement already satisfied: joblib>=1.0 in /usr/local/lib/python3.10/dist-packages (from hdbscan>=0.8.29->bertopic) (1.4.2)\n",
            "Requirement already satisfied: python-dateutil>=2.8.2 in /usr/local/lib/python3.10/dist-packages (from pandas>=1.1.5->bertopic) (2.8.2)\n",
            "Requirement already satisfied: pytz>=2020.1 in /usr/local/lib/python3.10/dist-packages (from pandas>=1.1.5->bertopic) (2024.2)\n",
            "Requirement already satisfied: tzdata>=2022.7 in /usr/local/lib/python3.10/dist-packages (from pandas>=1.1.5->bertopic) (2024.2)\n",
            "Requirement already satisfied: tenacity>=6.2.0 in /usr/local/lib/python3.10/dist-packages (from plotly>=4.7.0->bertopic) (9.0.0)\n",
            "Requirement already satisfied: packaging in /usr/local/lib/python3.10/dist-packages (from plotly>=4.7.0->bertopic) (24.2)\n",
            "Requirement already satisfied: threadpoolctl>=3.1.0 in /usr/local/lib/python3.10/dist-packages (from scikit-learn>=0.22.2.post1->bertopic) (3.5.0)\n",
            "Requirement already satisfied: transformers<5.0.0,>=4.41.0 in /usr/local/lib/python3.10/dist-packages (from sentence-transformers>=0.4.1->bertopic) (4.46.2)\n",
            "Requirement already satisfied: torch>=1.11.0 in /usr/local/lib/python3.10/dist-packages (from sentence-transformers>=0.4.1->bertopic) (2.5.1+cu121)\n",
            "Requirement already satisfied: huggingface-hub>=0.20.0 in /usr/local/lib/python3.10/dist-packages (from sentence-transformers>=0.4.1->bertopic) (0.26.2)\n",
            "Requirement already satisfied: Pillow in /usr/local/lib/python3.10/dist-packages (from sentence-transformers>=0.4.1->bertopic) (11.0.0)\n",
            "Requirement already satisfied: numba>=0.51.2 in /usr/local/lib/python3.10/dist-packages (from umap-learn>=0.5.0->bertopic) (0.60.0)\n",
            "Requirement already satisfied: pynndescent>=0.5 in /usr/local/lib/python3.10/dist-packages (from umap-learn>=0.5.0->bertopic) (0.5.13)\n",
            "Requirement already satisfied: filelock in /usr/local/lib/python3.10/dist-packages (from huggingface-hub>=0.20.0->sentence-transformers>=0.4.1->bertopic) (3.16.1)\n",
            "Requirement already satisfied: fsspec>=2023.5.0 in /usr/local/lib/python3.10/dist-packages (from huggingface-hub>=0.20.0->sentence-transformers>=0.4.1->bertopic) (2024.10.0)\n",
            "Requirement already satisfied: pyyaml>=5.1 in /usr/local/lib/python3.10/dist-packages (from huggingface-hub>=0.20.0->sentence-transformers>=0.4.1->bertopic) (6.0.2)\n",
            "Requirement already satisfied: requests in /usr/local/lib/python3.10/dist-packages (from huggingface-hub>=0.20.0->sentence-transformers>=0.4.1->bertopic) (2.32.3)\n",
            "Requirement already satisfied: typing-extensions>=3.7.4.3 in /usr/local/lib/python3.10/dist-packages (from huggingface-hub>=0.20.0->sentence-transformers>=0.4.1->bertopic) (4.12.2)\n",
            "Requirement already satisfied: llvmlite<0.44,>=0.43.0dev0 in /usr/local/lib/python3.10/dist-packages (from numba>=0.51.2->umap-learn>=0.5.0->bertopic) (0.43.0)\n",
            "Requirement already satisfied: six>=1.5 in /usr/local/lib/python3.10/dist-packages (from python-dateutil>=2.8.2->pandas>=1.1.5->bertopic) (1.16.0)\n",
            "Requirement already satisfied: networkx in /usr/local/lib/python3.10/dist-packages (from torch>=1.11.0->sentence-transformers>=0.4.1->bertopic) (3.4.2)\n",
            "Requirement already satisfied: jinja2 in /usr/local/lib/python3.10/dist-packages (from torch>=1.11.0->sentence-transformers>=0.4.1->bertopic) (3.1.4)\n",
            "Requirement already satisfied: sympy==1.13.1 in /usr/local/lib/python3.10/dist-packages (from torch>=1.11.0->sentence-transformers>=0.4.1->bertopic) (1.13.1)\n",
            "Requirement already satisfied: mpmath<1.4,>=1.1.0 in /usr/local/lib/python3.10/dist-packages (from sympy==1.13.1->torch>=1.11.0->sentence-transformers>=0.4.1->bertopic) (1.3.0)\n",
            "Requirement already satisfied: regex!=2019.12.17 in /usr/local/lib/python3.10/dist-packages (from transformers<5.0.0,>=4.41.0->sentence-transformers>=0.4.1->bertopic) (2024.9.11)\n",
            "Requirement already satisfied: safetensors>=0.4.1 in /usr/local/lib/python3.10/dist-packages (from transformers<5.0.0,>=4.41.0->sentence-transformers>=0.4.1->bertopic) (0.4.5)\n",
            "Requirement already satisfied: tokenizers<0.21,>=0.20 in /usr/local/lib/python3.10/dist-packages (from transformers<5.0.0,>=4.41.0->sentence-transformers>=0.4.1->bertopic) (0.20.3)\n",
            "Requirement already satisfied: MarkupSafe>=2.0 in /usr/local/lib/python3.10/dist-packages (from jinja2->torch>=1.11.0->sentence-transformers>=0.4.1->bertopic) (3.0.2)\n",
            "Requirement already satisfied: charset-normalizer<4,>=2 in /usr/local/lib/python3.10/dist-packages (from requests->huggingface-hub>=0.20.0->sentence-transformers>=0.4.1->bertopic) (3.4.0)\n",
            "Requirement already satisfied: idna<4,>=2.5 in /usr/local/lib/python3.10/dist-packages (from requests->huggingface-hub>=0.20.0->sentence-transformers>=0.4.1->bertopic) (3.10)\n",
            "Requirement already satisfied: urllib3<3,>=1.21.1 in /usr/local/lib/python3.10/dist-packages (from requests->huggingface-hub>=0.20.0->sentence-transformers>=0.4.1->bertopic) (2.2.3)\n",
            "Requirement already satisfied: certifi>=2017.4.17 in /usr/local/lib/python3.10/dist-packages (from requests->huggingface-hub>=0.20.0->sentence-transformers>=0.4.1->bertopic) (2024.8.30)\n"
          ]
        }
      ]
    },
    {
      "cell_type": "code",
      "source": [
        "# Import BERTopic library\n",
        "from bertopic import BERTopic\n",
        "\n",
        "# Initialize BERTopic with custom parameters\n",
        "bertopic_model = BERTopic(language=\"english\", calculate_probabilities=True, verbose=True, min_topic_size=5)\n",
        "\n",
        "# Generate topics and probabilities\n",
        "bert_topics, probs = bertopic_model.fit_transform([\" \".join(doc) for doc in corpus])\n",
        "\n",
        "# Retrieve topic information and exclude outliers (-1)\n",
        "topic_info = bertopic_model.get_topic_info()\n",
        "valid_topics = topic_info[topic_info[\"Topic\"] != -1]\n",
        "\n",
        "# Ensure only the top 10 topics are displayed\n",
        "top_10_topics = valid_topics.head(10)  # Select the first 10 rows of valid topics\n",
        "\n",
        "# Save the top 10 topics to a CSV file\n",
        "top_10_topics.to_csv(\"bert_topic_summary1.csv\", index=False)\n",
        "\n",
        "# Display the top 10 topics\n",
        "print(\"Top 10 Topics Identified by BERTopic:\")\n",
        "print(top_10_topics)"
      ],
      "metadata": {
        "colab": {
          "base_uri": "https://localhost:8080/",
          "height": 833,
          "referenced_widgets": [
            "196e74c630d544488acdd1f8cfb52e20",
            "624de98ba78e45c5801a843db69d0749",
            "f97130c9f95d4ebdad055246789dde0e",
            "c71df81882ff44b29a2f5ca33abcde3a",
            "32296077144f46af84bfed0786efc478",
            "40d2085d771247e08a3e1328b8325c51",
            "f3dc8463458941458cb5c6f82e30e118",
            "f5d6b5701c42452687b84b1723a2637c",
            "56bc5f04b16d4a5daf2780d5a4979fff",
            "bf300c3bab8a463293386bc2cada9384",
            "b85f2861557a4179a12fcab87fe730b5"
          ]
        },
        "id": "73GktxAnVRIZ",
        "outputId": "b0c20a0c-5529-44c7-e708-93c3036a7000"
      },
      "execution_count": 22,
      "outputs": [
        {
          "output_type": "stream",
          "name": "stderr",
          "text": [
            "2024-11-24 05:23:51,019 - BERTopic - Embedding - Transforming documents to embeddings.\n"
          ]
        },
        {
          "output_type": "display_data",
          "data": {
            "text/plain": [
              "Batches:   0%|          | 0/43 [00:00<?, ?it/s]"
            ],
            "application/vnd.jupyter.widget-view+json": {
              "version_major": 2,
              "version_minor": 0,
              "model_id": "196e74c630d544488acdd1f8cfb52e20"
            }
          },
          "metadata": {}
        },
        {
          "output_type": "stream",
          "name": "stderr",
          "text": [
            "2024-11-24 05:26:30,229 - BERTopic - Embedding - Completed ✓\n",
            "2024-11-24 05:26:30,231 - BERTopic - Dimensionality - Fitting the dimensionality reduction algorithm\n",
            "2024-11-24 05:26:34,589 - BERTopic - Dimensionality - Completed ✓\n",
            "2024-11-24 05:26:34,592 - BERTopic - Cluster - Start clustering the reduced embeddings\n",
            "2024-11-24 05:26:35,242 - BERTopic - Cluster - Completed ✓\n",
            "2024-11-24 05:26:35,249 - BERTopic - Representation - Extracting topics from clusters using representation models.\n",
            "2024-11-24 05:26:36,049 - BERTopic - Representation - Completed ✓\n"
          ]
        },
        {
          "output_type": "stream",
          "name": "stdout",
          "text": [
            "Top 10 Topics Identified by BERTopic:\n",
            "    Topic  Count                                Name  \\\n",
            "1       0     32             0_luke_yoda_empire_star   \n",
            "2       1     31       1_oskar_schindler_steven_list   \n",
            "3       2     30           2_aamir_dangal_khan_singh   \n",
            "4       3     27           3_tonight_they_tell_story   \n",
            "5       4     25          4_flash_keaton_miller_ezra   \n",
            "6       5     24  5_nicholson_mcmurphy_fletcher_jack   \n",
            "7       6     24         6_norton_derek_edward_black   \n",
            "8       7     23                       7_away_swag__   \n",
            "9       8     22       8_arjun_allu_arjunallu_fassil   \n",
            "10      9     22            9_simba_lion_disney_scar   \n",
            "\n",
            "                                       Representation  \\\n",
            "1   [luke, yoda, empire, star, vader, han, wars, j...   \n",
            "2   [oskar, schindler, steven, list, spielberg, co...   \n",
            "3   [aamir, dangal, khan, singh, india, mahavir, p...   \n",
            "4   [tonight, they, tell, story, telling, children...   \n",
            "5   [flash, keaton, miller, ezra, cgi, batman, mic...   \n",
            "6   [nicholson, mcmurphy, fletcher, jack, nurse, c...   \n",
            "7   [norton, derek, edward, black, furlong, racism...   \n",
            "8                        [away, swag, , , , , , , , ]   \n",
            "9   [arjun, allu, arjunallu, fassil, expression, f...   \n",
            "10  [simba, lion, disney, scar, king, mufasa, timo...   \n",
            "\n",
            "                                  Representative_Docs  \n",
            "1   [excellent timeless classic best sequel time s...  \n",
            "2   [profound beauty appreciate art masterpiece sc...  \n",
            "3   [nice movie excellent movie stellar performanc...  \n",
            "4   [they tell story tonight, they tell story toni...  \n",
            "5   [fun emotional when justice league hit theatre...  \n",
            "6   [flew best movies made and person first thing ...  \n",
            "7   [can stop hating other this movie got mean got...  \n",
            "8                                  [away, away, away]  \n",
            "9   [allu arjun allu arjunallu allu arjun arjunall...  \n",
            "10  [lion king released christmas day 2002 imax la...  \n"
          ]
        }
      ]
    },
    {
      "cell_type": "markdown",
      "source": [
        "# Summary of BERTopic\n",
        "\n",
        "BERTopic organizes reviews into topics using embeddings, offering an in-depth analysis of the dataset's main themes. Each topic is characterized by its most common words and associated representative documents.\n",
        "\n",
        "1.Gangster Cinema: Explores the legacy of films like The Godfather and Goodfellas.\n",
        "\n",
        "2.Hamilton Musical: Highlights the cultural and artistic impact of Hamilton.\n",
        "\n",
        "3.Schindler’s List: Reflects on Spielberg’s impactful Holocaust narrative.\n",
        "\n",
        "4.The Matrix: Focuses on the philosophical and cinematic significance of the film.\n",
        "\n",
        "5.Star Wars: Celebrates the Star Wars sequels and their beloved characters.\n",
        "\n",
        "6.Léon: The Professional: Discusses the emotional depth of the movie and its cast.\n",
        "\n",
        "7.Storytelling Themes: General reflections on narratives and their emotional impact.\n",
        "\n",
        "8.The Lion King: Revisits the magic of Disney’s animated classic.\n",
        "\n",
        "9.Seven Samurai: Pays homage to Kurosawa’s influential samurai epic.\n",
        "\n",
        "10The Shawshank Redemption: Explores themes of resilience and redemption in cinema."
      ],
      "metadata": {
        "id": "w7hHMcpl62Vm"
      }
    },
    {
      "cell_type": "markdown",
      "metadata": {
        "id": "AfpMRCrRwN6Z"
      },
      "source": [
        "# **Question 2: Sentiment Analysis**"
      ]
    },
    {
      "cell_type": "markdown",
      "metadata": {
        "id": "1dCQEbDawWCw"
      },
      "source": [
        "(30 points). Sentiment analysis also known as opinion mining is a sub field within Natural Language Processing (NLP) that builds machine learning algorithms to classify a text according to the sentimental polarities of opinions it contains, e.g., positive, negative, neutral. The purpose of this question is to develop a machine learning classifier for sentiment analysis. Based on the dataset from assignment three, write a python program to implement a sentiment classifier and evaluate its performance. Notice: **80% data for training and 20% data for testing**.  \n",
        "\n",
        "1. Select features for the sentiment classification and explain why you select these features. Use a markdown cell to provide your explanation.\n",
        "\n",
        "2. Select two of the supervised learning algorithms/models from scikit-learn library: https://scikit-learn.org/stable/supervised_learning.html#supervised-learning, to build two sentiment classifiers respectively. Note: Cross-validation (5-fold or 10-fold) should be conducted. Here is the reference of cross-validation: https://scikit-learn.org/stable/modules/cross_validation.html.\n",
        "\n",
        "3. Compare the performance over accuracy, precision, recall, and F1 score for the two algorithms you selected. The test set must be used for model evaluation in this step. Here is the reference of how to calculate these metrics: https://towardsdatascience.com/accuracy-precision-recall-or-f1-331fb37c5cb9."
      ]
    },
    {
      "cell_type": "markdown",
      "source": [
        "1.For sentiment classification, I have selected TF-IDF features with unigrams and bigrams for the following reasons:\n",
        "\n",
        "TF-IDF: We used it to capture the importance of words in the context of the entire dataset, emphasizing unique words that are crucial for sentiment differentiation.\n",
        "\n",
        "Unigrams and Bigrams: This combination allows the model to capture both individual word meanings and the context of adjacent word pairs, improving the model’s ability to understand sentiment nuances.\n",
        "\n",
        "Max Features: Limiting to the 5000 most frequent terms helps prevent overfitting and keeps the model efficient by focusing on the most relevant words.\n",
        "\n",
        "These feature selections ensure the model effectively understands the sentiment in the text."
      ],
      "metadata": {
        "id": "6Pz_54nVnh7O"
      }
    },
    {
      "cell_type": "code",
      "execution_count": 23,
      "metadata": {
        "id": "vATjQNTY8buA",
        "colab": {
          "base_uri": "https://localhost:8080/"
        },
        "outputId": "d9045076-e222-4496-818a-252da0ce7f9a"
      },
      "outputs": [
        {
          "output_type": "stream",
          "name": "stdout",
          "text": [
            "Logistic Regression Evaluation:\n",
            "Accuracy: 0.9091\n",
            "Precision: 0.9006\n",
            "Recall: 0.9091\n",
            "F1: 0.9040\n",
            "\n",
            "Classification Report (Logistic Regression):\n",
            "\n",
            "              precision    recall  f1-score   support\n",
            "\n",
            "           0       0.00      0.00      0.00         3\n",
            "           1       0.89      0.95      0.92       142\n",
            "           2       0.93      0.88      0.91       130\n",
            "\n",
            "    accuracy                           0.91       275\n",
            "   macro avg       0.61      0.61      0.61       275\n",
            "weighted avg       0.90      0.91      0.90       275\n",
            "\n",
            "\n",
            "Random Forest Evaluation:\n",
            "Accuracy: 0.9345\n",
            "Precision: 0.9419\n",
            "Recall: 0.9345\n",
            "F1: 0.9340\n",
            "\n",
            "Classification Report (Random Forest):\n",
            "\n",
            "              precision    recall  f1-score   support\n",
            "\n",
            "           0       1.00      0.67      0.80         3\n",
            "           1       0.89      1.00      0.94       142\n",
            "           2       1.00      0.87      0.93       130\n",
            "\n",
            "    accuracy                           0.93       275\n",
            "   macro avg       0.96      0.85      0.89       275\n",
            "weighted avg       0.94      0.93      0.93       275\n",
            "\n",
            "\n",
            "Cross-Validation Scores (F1 Weighted):\n",
            "Logistic Regression (5-fold CV): 0.8956\n",
            "Random Forest (5-fold CV): 0.9339\n"
          ]
        }
      ],
      "source": [
        "# Write your code here\n",
        "# Import required libraries\n",
        "import pandas as pd\n",
        "from sklearn.feature_extraction.text import TfidfVectorizer\n",
        "from sklearn.model_selection import train_test_split, cross_val_score\n",
        "from sklearn.ensemble import RandomForestClassifier\n",
        "from sklearn.linear_model import LogisticRegression\n",
        "from sklearn.metrics import accuracy_score, precision_score, recall_score, f1_score, classification_report\n",
        "\n",
        "# Load the dataset\n",
        "reviews_df = pd.read_csv('/content/sentiment_analysis_data.csv')\n",
        "\n",
        "# Data cleaning: Remove rows with missing values\n",
        "reviews_df = reviews_df.dropna(subset=['clean_text', 'sentiment'])\n",
        "\n",
        "# Map sentiment categories to numerical labels\n",
        "sentiment_mapping = {'positive': 1, 'negative': 0, 'neutral': 2}\n",
        "reviews_df['sentiment'] = reviews_df['sentiment'].map(sentiment_mapping)\n",
        "\n",
        "# Split the dataset into train and test sets\n",
        "texts = reviews_df['clean_text']\n",
        "labels = reviews_df['sentiment']\n",
        "texts_train, texts_test, labels_train, labels_test = train_test_split(\n",
        "    texts, labels, test_size=0.2, random_state=42\n",
        ")\n",
        "\n",
        "# Transform text into TF-IDF features\n",
        "tfidf = TfidfVectorizer(max_features=5000, stop_words='english')\n",
        "tfidf_train = tfidf.fit_transform(texts_train)\n",
        "tfidf_test = tfidf.transform(texts_test)\n",
        "\n",
        "# Initialize and evaluate Logistic Regression\n",
        "logistic_model = LogisticRegression(max_iter=1000, random_state=42)\n",
        "logistic_cv_scores = cross_val_score(\n",
        "    logistic_model, tfidf_train, labels_train, cv=5, scoring='f1_weighted'\n",
        ")\n",
        "logistic_model.fit(tfidf_train, labels_train)\n",
        "\n",
        "# Logistic Regression evaluation on test set\n",
        "logistic_preds = logistic_model.predict(tfidf_test)\n",
        "logistic_results = {\n",
        "    \"accuracy\": accuracy_score(labels_test, logistic_preds),\n",
        "    \"precision\": precision_score(labels_test, logistic_preds, average='weighted'),\n",
        "    \"recall\": recall_score(labels_test, logistic_preds, average='weighted'),\n",
        "    \"f1\": f1_score(labels_test, logistic_preds, average='weighted'),\n",
        "}\n",
        "\n",
        "# Initialize and evaluate Random Forest Classifier\n",
        "rf_model = RandomForestClassifier(n_estimators=100, random_state=42)\n",
        "rf_cv_scores = cross_val_score(\n",
        "    rf_model, tfidf_train, labels_train, cv=5, scoring='f1_weighted'\n",
        ")\n",
        "rf_model.fit(tfidf_train, labels_train)\n",
        "\n",
        "# Random Forest evaluation on test set\n",
        "rf_preds = rf_model.predict(tfidf_test)\n",
        "rf_results = {\n",
        "    \"accuracy\": accuracy_score(labels_test, rf_preds),\n",
        "    \"precision\": precision_score(labels_test, rf_preds, average='weighted'),\n",
        "    \"recall\": recall_score(labels_test, rf_preds, average='weighted'),\n",
        "    \"f1\": f1_score(labels_test, rf_preds, average='weighted'),\n",
        "}\n",
        "\n",
        "# Display evaluation results\n",
        "print(\"Logistic Regression Evaluation:\")\n",
        "for metric, value in logistic_results.items():\n",
        "    print(f\"{metric.capitalize()}: {value:.4f}\")\n",
        "print(\"\\nClassification Report (Logistic Regression):\\n\")\n",
        "print(classification_report(labels_test, logistic_preds))\n",
        "\n",
        "print(\"\\nRandom Forest Evaluation:\")\n",
        "for metric, value in rf_results.items():\n",
        "    print(f\"{metric.capitalize()}: {value:.4f}\")\n",
        "print(\"\\nClassification Report (Random Forest):\\n\")\n",
        "print(classification_report(labels_test, rf_preds))\n",
        "\n",
        "# Display cross-validation scores\n",
        "print(\"\\nCross-Validation Scores (F1 Weighted):\")\n",
        "print(f\"Logistic Regression (5-fold CV): {logistic_cv_scores.mean():.4f}\")\n",
        "print(f\"Random Forest (5-fold CV): {rf_cv_scores.mean():.4f}\")\n",
        "\n",
        "\n",
        "\n",
        "\n"
      ]
    },
    {
      "cell_type": "markdown",
      "metadata": {
        "id": "E5mmYIfN8eYV"
      },
      "source": [
        "# **Question 3: House price prediction**"
      ]
    },
    {
      "cell_type": "markdown",
      "metadata": {
        "id": "hsi2y4z88ngX"
      },
      "source": [
        "(20 points). You are required to build a **regression** model to predict the house price with 79 explanatory variables describing (almost) every aspect of residential homes. The purpose of this question is to practice regression analysis, an supervised learning model. The training data, testing data, and data description files can be download from canvas. Here is an axample for implementation: https://towardsdatascience.com/linear-regression-in-python-predict-the-bay-areas-home-price-5c91c8378878.\n",
        "\n",
        "1. Conduct necessary Explatory Data Analysis (EDA) and data cleaning steps on the given dataset. Split data for training and testing.\n",
        "2. Based on the EDA results, select a number of features for the regression model. Shortly explain why you select those features.\n",
        "3. Develop a regression model. The train set should be used.\n",
        "4. Evaluate performance of the regression model you developed using appropriate evaluation metrics. The test set should be used."
      ]
    },
    {
      "cell_type": "code",
      "execution_count": 24,
      "metadata": {
        "id": "XfvMKJjIXS5G",
        "colab": {
          "base_uri": "https://localhost:8080/",
          "height": 1000
        },
        "outputId": "2a97a037-0388-4e23-cd79-486ebab857ea"
      },
      "outputs": [
        {
          "output_type": "stream",
          "name": "stdout",
          "text": [
            "Training Dataset Shape: (1460, 81)\n",
            "Testing Dataset Shape: (1459, 80)\n",
            "\n",
            "Training Dataset Information:\n",
            "<class 'pandas.core.frame.DataFrame'>\n",
            "RangeIndex: 1460 entries, 0 to 1459\n",
            "Data columns (total 81 columns):\n",
            " #   Column         Non-Null Count  Dtype  \n",
            "---  ------         --------------  -----  \n",
            " 0   Id             1460 non-null   int64  \n",
            " 1   MSSubClass     1460 non-null   int64  \n",
            " 2   MSZoning       1460 non-null   object \n",
            " 3   LotFrontage    1201 non-null   float64\n",
            " 4   LotArea        1460 non-null   int64  \n",
            " 5   Street         1460 non-null   object \n",
            " 6   Alley          91 non-null     object \n",
            " 7   LotShape       1460 non-null   object \n",
            " 8   LandContour    1460 non-null   object \n",
            " 9   Utilities      1460 non-null   object \n",
            " 10  LotConfig      1460 non-null   object \n",
            " 11  LandSlope      1460 non-null   object \n",
            " 12  Neighborhood   1460 non-null   object \n",
            " 13  Condition1     1460 non-null   object \n",
            " 14  Condition2     1460 non-null   object \n",
            " 15  BldgType       1460 non-null   object \n",
            " 16  HouseStyle     1460 non-null   object \n",
            " 17  OverallQual    1460 non-null   int64  \n",
            " 18  OverallCond    1460 non-null   int64  \n",
            " 19  YearBuilt      1460 non-null   int64  \n",
            " 20  YearRemodAdd   1460 non-null   int64  \n",
            " 21  RoofStyle      1460 non-null   object \n",
            " 22  RoofMatl       1460 non-null   object \n",
            " 23  Exterior1st    1460 non-null   object \n",
            " 24  Exterior2nd    1460 non-null   object \n",
            " 25  MasVnrType     588 non-null    object \n",
            " 26  MasVnrArea     1452 non-null   float64\n",
            " 27  ExterQual      1460 non-null   object \n",
            " 28  ExterCond      1460 non-null   object \n",
            " 29  Foundation     1460 non-null   object \n",
            " 30  BsmtQual       1423 non-null   object \n",
            " 31  BsmtCond       1423 non-null   object \n",
            " 32  BsmtExposure   1422 non-null   object \n",
            " 33  BsmtFinType1   1423 non-null   object \n",
            " 34  BsmtFinSF1     1460 non-null   int64  \n",
            " 35  BsmtFinType2   1422 non-null   object \n",
            " 36  BsmtFinSF2     1460 non-null   int64  \n",
            " 37  BsmtUnfSF      1460 non-null   int64  \n",
            " 38  TotalBsmtSF    1460 non-null   int64  \n",
            " 39  Heating        1460 non-null   object \n",
            " 40  HeatingQC      1460 non-null   object \n",
            " 41  CentralAir     1460 non-null   object \n",
            " 42  Electrical     1459 non-null   object \n",
            " 43  1stFlrSF       1460 non-null   int64  \n",
            " 44  2ndFlrSF       1460 non-null   int64  \n",
            " 45  LowQualFinSF   1460 non-null   int64  \n",
            " 46  GrLivArea      1460 non-null   int64  \n",
            " 47  BsmtFullBath   1460 non-null   int64  \n",
            " 48  BsmtHalfBath   1460 non-null   int64  \n",
            " 49  FullBath       1460 non-null   int64  \n",
            " 50  HalfBath       1460 non-null   int64  \n",
            " 51  BedroomAbvGr   1460 non-null   int64  \n",
            " 52  KitchenAbvGr   1460 non-null   int64  \n",
            " 53  KitchenQual    1460 non-null   object \n",
            " 54  TotRmsAbvGrd   1460 non-null   int64  \n",
            " 55  Functional     1460 non-null   object \n",
            " 56  Fireplaces     1460 non-null   int64  \n",
            " 57  FireplaceQu    770 non-null    object \n",
            " 58  GarageType     1379 non-null   object \n",
            " 59  GarageYrBlt    1379 non-null   float64\n",
            " 60  GarageFinish   1379 non-null   object \n",
            " 61  GarageCars     1460 non-null   int64  \n",
            " 62  GarageArea     1460 non-null   int64  \n",
            " 63  GarageQual     1379 non-null   object \n",
            " 64  GarageCond     1379 non-null   object \n",
            " 65  PavedDrive     1460 non-null   object \n",
            " 66  WoodDeckSF     1460 non-null   int64  \n",
            " 67  OpenPorchSF    1460 non-null   int64  \n",
            " 68  EnclosedPorch  1460 non-null   int64  \n",
            " 69  3SsnPorch      1460 non-null   int64  \n",
            " 70  ScreenPorch    1460 non-null   int64  \n",
            " 71  PoolArea       1460 non-null   int64  \n",
            " 72  PoolQC         7 non-null      object \n",
            " 73  Fence          281 non-null    object \n",
            " 74  MiscFeature    54 non-null     object \n",
            " 75  MiscVal        1460 non-null   int64  \n",
            " 76  MoSold         1460 non-null   int64  \n",
            " 77  YrSold         1460 non-null   int64  \n",
            " 78  SaleType       1460 non-null   object \n",
            " 79  SaleCondition  1460 non-null   object \n",
            " 80  SalePrice      1460 non-null   int64  \n",
            "dtypes: float64(3), int64(35), object(43)\n",
            "memory usage: 924.0+ KB\n",
            "None\n"
          ]
        },
        {
          "output_type": "display_data",
          "data": {
            "text/plain": [
              "<Figure size 1000x600 with 1 Axes>"
            ],
            "image/png": "[encoded data removed]"
          },
          "metadata": {}
        }
      ],
      "source": [
        "# Write your code here\n",
        "# Import necessary libraries\n",
        "import pandas as pd\n",
        "import numpy as np\n",
        "import matplotlib.pyplot as plt\n",
        "import seaborn as sns\n",
        "from sklearn.model_selection import train_test_split\n",
        "from sklearn.linear_model import LinearRegression, Ridge\n",
        "from sklearn.metrics import mean_squared_error, mean_absolute_error, r2_score\n",
        "\n",
        "# Load training and testing datasets\n",
        "train_file = 'train.csv'\n",
        "test_file = 'test.csv'\n",
        "train_df = pd.read_csv(train_file)\n",
        "test_df = pd.read_csv(test_file)\n",
        "\n",
        "# Print basic details about datasets\n",
        "print(f\"Training Dataset Shape: {train_df.shape}\")\n",
        "print(f\"Testing Dataset Shape: {test_df.shape}\")\n",
        "print(\"\\nTraining Dataset Information:\")\n",
        "print(train_df.info())\n",
        "\n",
        "# Visualize the distribution of the target variable (SalePrice)\n",
        "plt.figure(figsize=(10, 6))\n",
        "sns.histplot(train_df['SalePrice'], kde=True, color='Green')\n",
        "plt.title('SalePrice Distribution')\n",
        "plt.xlabel('SalePrice')\n",
        "plt.ylabel('Frequency')\n",
        "plt.show()\n",
        "\n",
        "# Handle missing values in numeric features (Train dataset)\n",
        "num_features_train = train_df.select_dtypes(include=['int64', 'float64']).columns\n",
        "train_df[num_features_train] = train_df[num_features_train].fillna(train_df[num_features_train].median())\n",
        "\n",
        "# Handle missing values in categorical features (Train dataset)\n",
        "cat_features_train = train_df.select_dtypes(include=['object']).columns\n",
        "train_df[cat_features_train] = train_df[cat_features_train].fillna(train_df[cat_features_train].mode().iloc[0])\n",
        "\n",
        "# One-hot encode categorical features in the Train dataset\n",
        "train_df = pd.get_dummies(train_df, drop_first=True)\n",
        "\n",
        "# Handle missing values in numeric features (Test dataset)\n",
        "num_features_test = test_df.select_dtypes(include=['int64', 'float64']).columns\n",
        "test_df[num_features_test] = test_df[num_features_test].fillna(test_df[num_features_test].median())\n",
        "\n",
        "# Handle missing values in categorical features (Test dataset)\n",
        "cat_features_test = test_df.select_dtypes(include=['object']).columns\n",
        "test_df[cat_features_test] = test_df[cat_features_test].fillna(test_df[cat_features_test].mode().iloc[0])\n",
        "\n",
        "# One-hot encode categorical features in the Test dataset\n",
        "test_df = pd.get_dummies(test_df, drop_first=True)\n",
        "\n",
        "# Align train and test datasets and extract the target variable\n",
        "target = train_df['SalePrice']\n",
        "train_df = train_df.drop(columns=['SalePrice'])\n",
        "train_df, test_df = train_df.align(test_df, join='inner', axis=1)\n",
        "train_df['SalePrice'] = target\n",
        "\n",
        "# Separate features and target for model training\n",
        "features = train_df.drop(columns=['SalePrice'])\n",
        "target = train_df['SalePrice']\n",
        "\n",
        "# Split the data into training and validation sets\n",
        "X_train, X_val, y_train, y_val = train_test_split(features, target, test_size=0.2, random_state=42)\n",
        "\n"
      ]
    },
    {
      "cell_type": "markdown",
      "source": [
        "2. For the regression model, I selected the following features based on their strong correlation with SalePrice and practical significance:\n",
        "\n",
        "OverallQual: Strong positive correlation with price (higher quality leads to higher prices).\n",
        "\n",
        "GrLivArea: Larger living area usually results in higher sale prices.\n",
        "TotRmsAbvGrd: More rooms generally indicate a higher price.\n",
        "\n",
        "YearBuilt: Newer homes tend to have higher prices.\n",
        "\n",
        "GarageCars and GarageArea: The number of cars a garage can accommodate influences price.\n",
        "\n",
        "Neighborhood: Location significantly affects the house price.\n",
        "\n",
        "ExterQual, KitchenQual, Functional: These quality and functionality indicators are crucial for determining price.\n",
        "\n",
        "These features are selected due to their high correlation with SalePrice, practical significance in determining property value, and variance across the dataset."
      ],
      "metadata": {
        "id": "zhHGVoeLl3hR"
      }
    },
    {
      "cell_type": "code",
      "source": [
        "# Initialize and train Linear Regression model\n",
        "linear_model = LinearRegression()\n",
        "linear_model.fit(X_train, y_train)\n",
        "\n",
        "# Initialize and train Ridge Regression model\n",
        "ridge_regressor = Ridge(alpha=1.0)\n",
        "ridge_regressor.fit(X_train, y_train)\n",
        "\n",
        "# Predict using Linear Regression and Ridge Regression models\n",
        "linear_preds = linear_model.predict(X_val)\n",
        "ridge_preds = ridge_regressor.predict(X_val)\n",
        "\n",
        "# Define a function for model evaluation\n",
        "def display_metrics(y_actual, y_predicted, model_name):\n",
        "    mse_value = mean_squared_error(y_actual, y_predicted)\n",
        "    mae_value = mean_absolute_error(y_actual, y_predicted)\n",
        "    rmse_value = np.sqrt(mse_value)\n",
        "    r2 = r2_score(y_actual, y_predicted)\n",
        "\n",
        "    print(f\"\\n{model_name} Performance Metrics:\")\n",
        "    print(f\"Mean Squared Error: {mse_value:.2f}\")\n",
        "    print(f\"Mean Absolute Error: {mae_value:.2f}\")\n",
        "    print(f\"Root Mean Squared Error: {rmse_value:.2f}\")\n",
        "    print(f\"R2 Score: {r2:.4f}\")\n",
        "\n",
        "# Evaluate Linear Regression model\n",
        "display_metrics(y_val, linear_preds, \"Linear Regression\")\n",
        "\n",
        "# Evaluate Ridge Regression model\n",
        "display_metrics(y_val, ridge_preds, \"Ridge Regression\")\n",
        "\n",
        "# Visualize Actual vs Predicted values for both models\n",
        "plt.figure(figsize=(10, 6))\n",
        "plt.scatter(y_val, linear_preds, alpha=0.6, label='Linear Regression Predictions')\n",
        "plt.scatter(y_val, ridge_preds, alpha=0.6, label='Ridge Regression Predictions')\n",
        "plt.plot([y_val.min(), y_val.max()], [y_val.min(), y_val.max()], color='red', linestyle='--', label='Ideal Fit')\n",
        "plt.xlabel('Actual SalePrice')\n",
        "plt.ylabel('Predicted SalePrice')\n",
        "plt.title('Actual vs Predicted SalePrice')\n",
        "plt.legend()\n",
        "plt.show()"
      ],
      "metadata": {
        "colab": {
          "base_uri": "https://localhost:8080/",
          "height": 760
        },
        "id": "KPkgpME_lYBx",
        "outputId": "2c58e423-6202-4877-cbfc-0970ea148d51"
      },
      "execution_count": 25,
      "outputs": [
        {
          "output_type": "stream",
          "name": "stdout",
          "text": [
            "\n",
            "Linear Regression Performance Metrics:\n",
            "Mean Squared Error: 1052795614.39\n",
            "Mean Absolute Error: 20557.79\n",
            "Root Mean Squared Error: 32446.81\n",
            "R2 Score: 0.8627\n",
            "\n",
            "Ridge Regression Performance Metrics:\n",
            "Mean Squared Error: 936255827.18\n",
            "Mean Absolute Error: 19996.04\n",
            "Root Mean Squared Error: 30598.30\n",
            "R2 Score: 0.8779\n"
          ]
        },
        {
          "output_type": "display_data",
          "data": {
            "text/plain": [
              "<Figure size 1000x600 with 1 Axes>"
            ],
            "image/png": "[encoded data removed]"
          },
          "metadata": {}
        }
      ]
    },
    {
      "cell_type": "markdown",
      "metadata": {
        "id": "_BbswDvnEX-k"
      },
      "source": [
        "# **Question 4: Using Pre-trained LLMs**"
      ]
    },
    {
      "cell_type": "markdown",
      "metadata": {
        "id": "xKwKTnW1EX-k"
      },
      "source": [
        "(20 points)\n",
        "Utilize a **Pre-trained Language Model (PLM) from the Hugging Face Repository** for predicting sentiment polarities on the data you collected in Assignment 3.\n",
        "\n",
        "Then, choose a relevant LLM from their repository, such as GPT-3, BERT, or RoBERTa or any other related models.\n",
        "1. (5 points) Provide a brief description of the PLM you selected, including its original pretraining data sources,  number of parameters, and any task-specific fine-tuning if applied.\n",
        "2. (10 points) Use the selected PLM to perform the sentiment analysis on the data collected in Assignment 3. Only use the model in the **zero-shot** setting, NO finetuning is required. Evaluate performance of the model by comparing with the groundtruths (labels you annotated) on Accuracy, Precision, Recall, and F1 metrics.\n",
        "3. (5 points) Discuss the advantages and disadvantages of the selected PLM, and any challenges encountered during the implementation. This will enable a comprehensive understanding of the chosen LLM's applicability and effectiveness for the given task.\n"
      ]
    },
    {
      "cell_type": "markdown",
      "source": [
        "# 1. An explanation of the chosen PLM (RoBERTa)\n",
        "With minor adjustments to BERT's initial training process, the transformer-based RoBERTa model—an acronym for Robustly Optimized BERT Approach—is pretrained on sizable datasets. Using a larger batch size, training on more data, and removing the Next Sentence Prediction target, RoBERTa is renowned for outperforming BERT at higher performance levels.\n",
        "\n",
        "Key Details of RoBERTa:\n",
        "\n",
        "**Pretraining Data:**\n",
        "RoBERTa was pretrained on a combination of large text corpora, including:\n",
        "BookCorpus (800M words)\n",
        "OpenWebText (38GB of text)\n",
        "CC-News (76GB of data from the web)\n",
        "Stories (31GB of text from a variety of stories)\n",
        "In total, RoBERTa was trained on about 160GB of text data.\n",
        "\n",
        "**Number of Parameters:**\n",
        "RoBERTa-base has 125 million parameters, which makes it a manageable model size for many tasks while still being powerful.\n",
        "\n",
        "**Task-Specific Fine-Tuning:**\n",
        "RoBERTa does not require any task-specific fine-tuning for zero-shot classification. However, it is commonly fine-tuned for specific tasks like sentiment analysis, text classification, and question answering. For this task, we are utilizing the model in a zero-shot setting, where no additional fine-tuning is applied, and it directly predicts the sentiment labels based on the provided text."
      ],
      "metadata": {
        "id": "O3DDrdK2fj41"
      }
    },
    {
      "cell_type": "code",
      "execution_count": 26,
      "metadata": {
        "id": "BJgHWnOhFm-C",
        "colab": {
          "base_uri": "https://localhost:8080/"
        },
        "outputId": "792001ad-384f-43d0-cffc-4e8b2a226e4c"
      },
      "outputs": [
        {
          "output_type": "stream",
          "name": "stdout",
          "text": [
            "Evaluation Results:\n",
            "Accuracy: 0.4800\n",
            "Precision: 0.5547\n",
            "Recall: 0.4800\n",
            "F1 Score: 0.4107\n"
          ]
        }
      ],
      "source": [
        "#2. Write your code here\n",
        "\n",
        "# Import necessary libraries\n",
        "import pandas as pd\n",
        "from transformers import pipeline\n",
        "from sklearn.metrics import accuracy_score, precision_score, recall_score, f1_score\n",
        "\n",
        "# Load the dataset containing annotated sentiments\n",
        "\n",
        "data = pd.read_csv('/content/sentiment_analysis_data.csv')\n",
        "\n",
        "# Clean the dataset by removing rows with missing values\n",
        "data = data.dropna(subset=['clean_text', 'sentiment'])\n",
        "\n",
        "# Select a random subset of data for faster processing\n",
        "data = data.sample(n=50, random_state=42)\n",
        "\n",
        "# Convert sentiment labels to numeric format for evaluation\n",
        "label_mapping = {'positive': 1, 'negative': 0, 'neutral': 2}\n",
        "data['sentiment_label'] = data['sentiment'].map(label_mapping)\n",
        "\n",
        "# Initialize the sentiment analysis model using RoBERTa\n",
        "sentiment_pipeline = pipeline(\"zero-shot-classification\", model=\"facebook/bart-large-mnli\")\n",
        "\n",
        "# Define the sentiment categories for classification\n",
        "candidate_labels = [\"positive\", \"negative\", \"neutral\"]\n",
        "\n",
        "# Use the model to predict sentiments for the text data\n",
        "predictions = []\n",
        "for text in data['clean_text']:\n",
        "    result = sentiment_pipeline(text, candidate_labels)\n",
        "    predicted_label = result['labels'][0]  # Extract the highest-probability label\n",
        "    predictions.append(predicted_label)\n",
        "\n",
        "# Convert predicted labels from text to numeric format\n",
        "predicted_labels = [label_mapping[label] if label in label_mapping else 2 for label in predictions]\n",
        "\n",
        "# Compare predictions with actual labels to calculate evaluation metrics\n",
        "ground_truth = data['sentiment_label']\n",
        "\n",
        "# Compute accuracy, precision, recall, and F1 score\n",
        "accuracy = accuracy_score(ground_truth, predicted_labels)\n",
        "precision = precision_score(ground_truth, predicted_labels, average='weighted')\n",
        "recall = recall_score(ground_truth, predicted_labels, average='weighted')\n",
        "f1 = f1_score(ground_truth, predicted_labels, average='weighted')\n",
        "\n",
        "# Display the evaluation results\n",
        "print(\"Evaluation Results:\")\n",
        "print(f\"Accuracy: {accuracy:.4f}\")\n",
        "print(f\"Precision: {precision:.4f}\")\n",
        "print(f\"Recall: {recall:.4f}\")\n",
        "print(f\"F1 Score: {f1:.4f}\")\n"
      ]
    },
    {
      "cell_type": "markdown",
      "source": [
        "# Advantages and disadvantages of the selected PLM (RoBERTa)\n",
        "# Advantages\n",
        "\n",
        "\n",
        "**High Performance:** Provides excellent sentiment analysis results, outperforming competing models such as BERT.\n",
        "\n",
        "**Zero-Shot Learning:** This versatile and user-friendly technology can carry out tasks like sentiment analysis without the need for fine-tuning.\n",
        "\n",
        "**Contextual Understanding:-** Contextual knowledge improves the accuracy of text sentiment analysis by capturing long-range dependencies.\n",
        "\n",
        "**Simple Integration:** Transformers make it simple to incorporate Hugging Face into Python programs.\n",
        "\n",
        "\n",
        "# Disadvantages:-\n",
        "\n",
        "The drawbacks of RoBERTa\n",
        "\n",
        "**Resource-intensive:** demands a significant amount of processing power, particularly when dealing with big datasets.\n",
        "\n",
        "**Absence of fine-tuning:** For domain-specific tasks, it might not function as effectively as a fine-tuned model.\n",
        "\n",
        "**Model Interpretability:** The \"black-box\" nature of the model makes it challenging to explain its choices.\n",
        "\n",
        "\n",
        "# Challenges Encountered:\n",
        "\n",
        "**data preprocessing:** Making sure the data is appropriately cleansed and in line with model assumptions is known as data preprocessing.\n",
        "\n",
        "**Managing Ambiguity:** Has trouble with sarcasm or unclear language, which can compromise accuracy.\n",
        "\n",
        "**Computational Efficiency:** For big datasets, it might be resource-intensive and slow."
      ],
      "metadata": {
        "id": "VGp-KPL-eZaM"
      }
    }
  ],
  "metadata": {
    "colab": {
      "provenance": [],
      "include_colab_link": true
    },
    "kernelspec": {
      "display_name": "Python 3 (ipykernel)",
      "language": "python",
      "name": "python3"
    },
    "language_info": {
      "codemirror_mode": {
        "name": "ipython",
        "version": 3
      },
      "file_extension": ".py",
      "mimetype": "text/x-python",
      "name": "python",
      "nbconvert_exporter": "python",
      "pygments_lexer": "ipython3",
      "version": "3.9.12"
    },
    "widgets": {
      "application/vnd.jupyter.widget-state+json": {
        "196e74c630d544488acdd1f8cfb52e20": {
          "model_module": "@jupyter-widgets/controls",
          "model_name": "HBoxModel",
          "model_module_version": "1.5.0",
          "state": {
            "_dom_classes": [],
            "_model_module": "@jupyter-widgets/controls",
            "_model_module_version": "1.5.0",
            "_model_name": "HBoxModel",
            "_view_count": null,
            "_view_module": "@jupyter-widgets/controls",
            "_view_module_version": "1.5.0",
            "_view_name": "HBoxView",
            "box_style": "",
            "children": [
              "IPY_MODEL_624de98ba78e45c5801a843db69d0749",
              "IPY_MODEL_f97130c9f95d4ebdad055246789dde0e",
              "IPY_MODEL_c71df81882ff44b29a2f5ca33abcde3a"
            ],
            "layout": "IPY_MODEL_32296077144f46af84bfed0786efc478"
          }
        },
        "624de98ba78e45c5801a843db69d0749": {
          "model_module": "@jupyter-widgets/controls",
          "model_name": "HTMLModel",
          "model_module_version": "1.5.0",
          "state": {
            "_dom_classes": [],
            "_model_module": "@jupyter-widgets/controls",
            "_model_module_version": "1.5.0",
            "_model_name": "HTMLModel",
            "_view_count": null,
            "_view_module": "@jupyter-widgets/controls",
            "_view_module_version": "1.5.0",
            "_view_name": "HTMLView",
            "description": "",
            "description_tooltip": null,
            "layout": "IPY_MODEL_40d2085d771247e08a3e1328b8325c51",
            "placeholder": "​",
            "style": "IPY_MODEL_f3dc8463458941458cb5c6f82e30e118",
            "value": "Batches: 100%"
          }
        },
        "f97130c9f95d4ebdad055246789dde0e": {
          "model_module": "@jupyter-widgets/controls",
          "model_name": "FloatProgressModel",
          "model_module_version": "1.5.0",
          "state": {
            "_dom_classes": [],
            "_model_module": "@jupyter-widgets/controls",
            "_model_module_version": "1.5.0",
            "_model_name": "FloatProgressModel",
            "_view_count": null,
            "_view_module": "@jupyter-widgets/controls",
            "_view_module_version": "1.5.0",
            "_view_name": "ProgressView",
            "bar_style": "success",
            "description": "",
            "description_tooltip": null,
            "layout": "IPY_MODEL_f5d6b5701c42452687b84b1723a2637c",
            "max": 43,
            "min": 0,
            "orientation": "horizontal",
            "style": "IPY_MODEL_56bc5f04b16d4a5daf2780d5a4979fff",
            "value": 43
          }
        },
        "c71df81882ff44b29a2f5ca33abcde3a": {
          "model_module": "@jupyter-widgets/controls",
          "model_name": "HTMLModel",
          "model_module_version": "1.5.0",
          "state": {
            "_dom_classes": [],
            "_model_module": "@jupyter-widgets/controls",
            "_model_module_version": "1.5.0",
            "_model_name": "HTMLModel",
            "_view_count": null,
            "_view_module": "@jupyter-widgets/controls",
            "_view_module_version": "1.5.0",
            "_view_name": "HTMLView",
            "description": "",
            "description_tooltip": null,
            "layout": "IPY_MODEL_bf300c3bab8a463293386bc2cada9384",
            "placeholder": "​",
            "style": "IPY_MODEL_b85f2861557a4179a12fcab87fe730b5",
            "value": " 43/43 [02:37&lt;00:00,  3.75it/s]"
          }
        },
        "32296077144f46af84bfed0786efc478": {
          "model_module": "@jupyter-widgets/base",
          "model_name": "LayoutModel",
          "model_module_version": "1.2.0",
          "state": {
            "_model_module": "@jupyter-widgets/base",
            "_model_module_version": "1.2.0",
            "_model_name": "LayoutModel",
            "_view_count": null,
            "_view_module": "@jupyter-widgets/base",
            "_view_module_version": "1.2.0",
            "_view_name": "LayoutView",
            "align_content": null,
            "align_items": null,
            "align_self": null,
            "border": null,
            "bottom": null,
            "display": null,
            "flex": null,
            "flex_flow": null,
            "grid_area": null,
            "grid_auto_columns": null,
            "grid_auto_flow": null,
            "grid_auto_rows": null,
            "grid_column": null,
            "grid_gap": null,
            "grid_row": null,
            "grid_template_areas": null,
            "grid_template_columns": null,
            "grid_template_rows": null,
            "height": null,
            "justify_content": null,
            "justify_items": null,
            "left": null,
            "margin": null,
            "max_height": null,
            "max_width": null,
            "min_height": null,
            "min_width": null,
            "object_fit": null,
            "object_position": null,
            "order": null,
            "overflow": null,
            "overflow_x": null,
            "overflow_y": null,
            "padding": null,
            "right": null,
            "top": null,
            "visibility": null,
            "width": null
          }
        },
        "40d2085d771247e08a3e1328b8325c51": {
          "model_module": "@jupyter-widgets/base",
          "model_name": "LayoutModel",
          "model_module_version": "1.2.0",
          "state": {
            "_model_module": "@jupyter-widgets/base",
            "_model_module_version": "1.2.0",
            "_model_name": "LayoutModel",
            "_view_count": null,
            "_view_module": "@jupyter-widgets/base",
            "_view_module_version": "1.2.0",
            "_view_name": "LayoutView",
            "align_content": null,
            "align_items": null,
            "align_self": null,
            "border": null,
            "bottom": null,
            "display": null,
            "flex": null,
            "flex_flow": null,
            "grid_area": null,
            "grid_auto_columns": null,
            "grid_auto_flow": null,
            "grid_auto_rows": null,
            "grid_column": null,
            "grid_gap": null,
            "grid_row": null,
            "grid_template_areas": null,
            "grid_template_columns": null,
            "grid_template_rows": null,
            "height": null,
            "justify_content": null,
            "justify_items": null,
            "left": null,
            "margin": null,
            "max_height": null,
            "max_width": null,
            "min_height": null,
            "min_width": null,
            "object_fit": null,
            "object_position": null,
            "order": null,
            "overflow": null,
            "overflow_x": null,
            "overflow_y": null,
            "padding": null,
            "right": null,
            "top": null,
            "visibility": null,
            "width": null
          }
        },
        "f3dc8463458941458cb5c6f82e30e118": {
          "model_module": "@jupyter-widgets/controls",
          "model_name": "DescriptionStyleModel",
          "model_module_version": "1.5.0",
          "state": {
            "_model_module": "@jupyter-widgets/controls",
            "_model_module_version": "1.5.0",
            "_model_name": "DescriptionStyleModel",
            "_view_count": null,
            "_view_module": "@jupyter-widgets/base",
            "_view_module_version": "1.2.0",
            "_view_name": "StyleView",
            "description_width": ""
          }
        },
        "f5d6b5701c42452687b84b1723a2637c": {
          "model_module": "@jupyter-widgets/base",
          "model_name": "LayoutModel",
          "model_module_version": "1.2.0",
          "state": {
            "_model_module": "@jupyter-widgets/base",
            "_model_module_version": "1.2.0",
            "_model_name": "LayoutModel",
            "_view_count": null,
            "_view_module": "@jupyter-widgets/base",
            "_view_module_version": "1.2.0",
            "_view_name": "LayoutView",
            "align_content": null,
            "align_items": null,
            "align_self": null,
            "border": null,
            "bottom": null,
            "display": null,
            "flex": null,
            "flex_flow": null,
            "grid_area": null,
            "grid_auto_columns": null,
            "grid_auto_flow": null,
            "grid_auto_rows": null,
            "grid_column": null,
            "grid_gap": null,
            "grid_row": null,
            "grid_template_areas": null,
            "grid_template_columns": null,
            "grid_template_rows": null,
            "height": null,
            "justify_content": null,
            "justify_items": null,
            "left": null,
            "margin": null,
            "max_height": null,
            "max_width": null,
            "min_height": null,
            "min_width": null,
            "object_fit": null,
            "object_position": null,
            "order": null,
            "overflow": null,
            "overflow_x": null,
            "overflow_y": null,
            "padding": null,
            "right": null,
            "top": null,
            "visibility": null,
            "width": null
          }
        },
        "56bc5f04b16d4a5daf2780d5a4979fff": {
          "model_module": "@jupyter-widgets/controls",
          "model_name": "ProgressStyleModel",
          "model_module_version": "1.5.0",
          "state": {
            "_model_module": "@jupyter-widgets/controls",
            "_model_module_version": "1.5.0",
            "_model_name": "ProgressStyleModel",
            "_view_count": null,
            "_view_module": "@jupyter-widgets/base",
            "_view_module_version": "1.2.0",
            "_view_name": "StyleView",
            "bar_color": null,
            "description_width": ""
          }
        },
        "bf300c3bab8a463293386bc2cada9384": {
          "model_module": "@jupyter-widgets/base",
          "model_name": "LayoutModel",
          "model_module_version": "1.2.0",
          "state": {
            "_model_module": "@jupyter-widgets/base",
            "_model_module_version": "1.2.0",
            "_model_name": "LayoutModel",
            "_view_count": null,
            "_view_module": "@jupyter-widgets/base",
            "_view_module_version": "1.2.0",
            "_view_name": "LayoutView",
            "align_content": null,
            "align_items": null,
            "align_self": null,
            "border": null,
            "bottom": null,
            "display": null,
            "flex": null,
            "flex_flow": null,
            "grid_area": null,
            "grid_auto_columns": null,
            "grid_auto_flow": null,
            "grid_auto_rows": null,
            "grid_column": null,
            "grid_gap": null,
            "grid_row": null,
            "grid_template_areas": null,
            "grid_template_columns": null,
            "grid_template_rows": null,
            "height": null,
            "justify_content": null,
            "justify_items": null,
            "left": null,
            "margin": null,
            "max_height": null,
            "max_width": null,
            "min_height": null,
            "min_width": null,
            "object_fit": null,
            "object_position": null,
            "order": null,
            "overflow": null,
            "overflow_x": null,
            "overflow_y": null,
            "padding": null,
            "right": null,
            "top": null,
            "visibility": null,
            "width": null
          }
        },
        "b85f2861557a4179a12fcab87fe730b5": {
          "model_module": "@jupyter-widgets/controls",
          "model_name": "DescriptionStyleModel",
          "model_module_version": "1.5.0",
          "state": {
            "_model_module": "@jupyter-widgets/controls",
            "_model_module_version": "1.5.0",
            "_model_name": "DescriptionStyleModel",
            "_view_count": null,
            "_view_module": "@jupyter-widgets/base",
            "_view_module_version": "1.2.0",
            "_view_name": "StyleView",
            "description_width": ""
          }
        }
      }
    }
  },
  "nbformat": 4,
  "nbformat_minor": 0
}